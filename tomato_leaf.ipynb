{
  "nbformat": 4,
  "nbformat_minor": 0,
  "metadata": {
    "colab": {
      "provenance": [],
      "mount_file_id": "1LwFil4OdGHMRZE4LZZC4OYpgeRoD6Q0Q",
      "authorship_tag": "ABX9TyMNt0kvkHHBSdWw/jp/8eKK",
      "include_colab_link": true
    },
    "kernelspec": {
      "name": "python3",
      "display_name": "Python 3"
    },
    "language_info": {
      "name": "python"
    }
  },
  "cells": [
    {
      "cell_type": "markdown",
      "metadata": {
        "id": "view-in-github",
        "colab_type": "text"
      },
      "source": [
        "<a href=\"https://colab.research.google.com/github/LAGISHETTYNANDITHA/2203A52097/blob/main/tomato_leaf.ipynb\" target=\"_parent\"><img src=\"https://colab.research.google.com/assets/colab-badge.svg\" alt=\"Open In Colab\"/></a>"
      ]
    },
    {
      "cell_type": "code",
      "execution_count": null,
      "metadata": {
        "id": "pRiH6WtRexUh"
      },
      "outputs": [],
      "source": [
        "from tensorflow.compat.v1 import ConfigProto\n",
        "from tensorflow.compat.v1 import InteractiveSession\n",
        "\n",
        "config = ConfigProto()\n",
        "config.gpu_options.per_process_gpu_memory_fraction = 0.5\n",
        "config.gpu_options.allow_growth = True\n",
        "session = InteractiveSession(config=config)"
      ]
    },
    {
      "cell_type": "code",
      "source": [
        "!pip install tensorflow-gpu"
      ],
      "metadata": {
        "colab": {
          "base_uri": "https://localhost:8080/"
        },
        "id": "UBm6tvok1ne2",
        "outputId": "326a31f9-60a4-4ab5-9702-83c72be7a1ea"
      },
      "execution_count": null,
      "outputs": [
        {
          "output_type": "stream",
          "name": "stdout",
          "text": [
            "Collecting tensorflow-gpu\n",
            "  Downloading tensorflow-gpu-2.12.0.tar.gz (2.6 kB)\n",
            "  \u001b[1;31merror\u001b[0m: \u001b[1msubprocess-exited-with-error\u001b[0m\n",
            "  \n",
            "  \u001b[31m×\u001b[0m \u001b[32mpython setup.py egg_info\u001b[0m did not run successfully.\n",
            "  \u001b[31m│\u001b[0m exit code: \u001b[1;36m1\u001b[0m\n",
            "  \u001b[31m╰─>\u001b[0m See above for output.\n",
            "  \n",
            "  \u001b[1;35mnote\u001b[0m: This error originates from a subprocess, and is likely not a problem with pip.\n",
            "  Preparing metadata (setup.py) ... \u001b[?25l\u001b[?25herror\n",
            "\u001b[1;31merror\u001b[0m: \u001b[1mmetadata-generation-failed\u001b[0m\n",
            "\n",
            "\u001b[31m×\u001b[0m Encountered error while generating package metadata.\n",
            "\u001b[31m╰─>\u001b[0m See above for output.\n",
            "\n",
            "\u001b[1;35mnote\u001b[0m: This is an issue with the package mentioned above, not pip.\n",
            "\u001b[1;36mhint\u001b[0m: See above for details.\n"
          ]
        }
      ]
    },
    {
      "cell_type": "code",
      "source": [
        "\n",
        "# import the libraries as shown below\n",
        "\n",
        "from tensorflow.keras.layers import Input, Lambda, Dense, Flatten\n",
        "from tensorflow.keras.models import Model\n",
        "from tensorflow.keras.applications.resnet50 import ResNet50\n",
        "#from keras.applications.vgg16 import VGG16\n",
        "from tensorflow.keras.applications.resnet50 import preprocess_input\n",
        "from tensorflow.keras.preprocessing import image\n",
        "from tensorflow.keras.preprocessing.image import ImageDataGenerator,load_img\n",
        "from tensorflow.keras.models import Sequential\n",
        "import numpy as np\n",
        "from glob import glob\n",
        "#import matplotlib.pyplot as plt"
      ],
      "metadata": {
        "id": "iaFa1Lx01tZO"
      },
      "execution_count": null,
      "outputs": []
    },
    {
      "cell_type": "code",
      "source": [
        "\n",
        "# re-size all the images to this\n",
        "IMAGE_SIZE = [224, 224]\n",
        "\n",
        "train_path = '/content/drive/MyDrive/tomato/train'\n",
        "valid_path = '/content/drive/MyDrive/tomato/valid'"
      ],
      "metadata": {
        "id": "AB-7nTqS1xpp"
      },
      "execution_count": null,
      "outputs": []
    },
    {
      "cell_type": "code",
      "source": [
        "\n",
        "# Import the Vgg 16 library as shown below and add preprocessing layer to the front of VGG\n",
        "# Here we will be using imagenet weights\n",
        "\n",
        "resnet = ResNet50(input_shape=IMAGE_SIZE + [3], weights='imagenet', include_top=False)"
      ],
      "metadata": {
        "colab": {
          "base_uri": "https://localhost:8080/"
        },
        "id": "QXotah5z15Hs",
        "outputId": "72b80e3e-cdee-4d68-df22-82d7e0d1ac4a"
      },
      "execution_count": null,
      "outputs": [
        {
          "output_type": "stream",
          "name": "stdout",
          "text": [
            "Downloading data from https://storage.googleapis.com/tensorflow/keras-applications/resnet/resnet50_weights_tf_dim_ordering_tf_kernels_notop.h5\n",
            "94765736/94765736 [==============================] - 1s 0us/step\n"
          ]
        }
      ]
    },
    {
      "cell_type": "code",
      "source": [
        "\n",
        "# don't train existing weights\n",
        "for layer in resnet.layers:\n",
        "    layer.trainable = False"
      ],
      "metadata": {
        "id": "1dzdQdAL18r0"
      },
      "execution_count": null,
      "outputs": []
    },
    {
      "cell_type": "code",
      "source": [
        "\n",
        "  # useful for getting number of output classes\n",
        "folders = glob('/content/drive/MyDrive/tomato/train/*')"
      ],
      "metadata": {
        "id": "rWZRxuAj1-Yx"
      },
      "execution_count": null,
      "outputs": []
    },
    {
      "cell_type": "code",
      "source": [
        "\n",
        "# our layers - you can add more if you want\n",
        "x = Flatten()(resnet.output)"
      ],
      "metadata": {
        "id": "D5IuhTAQ2CHI"
      },
      "execution_count": null,
      "outputs": []
    },
    {
      "cell_type": "code",
      "source": [
        "\n",
        "prediction = Dense(len(folders), activation='softmax')(x)\n",
        "\n",
        "# create a model object\n",
        "model = Model(inputs=resnet.input, outputs=prediction)"
      ],
      "metadata": {
        "id": "rPUoXBHl2Dvg"
      },
      "execution_count": null,
      "outputs": []
    },
    {
      "cell_type": "code",
      "source": [
        "\n",
        "# view the structure of the model\n",
        "model.summary()"
      ],
      "metadata": {
        "colab": {
          "base_uri": "https://localhost:8080/"
        },
        "id": "NYU9wND92H0i",
        "outputId": "c293a6fd-e377-4996-a381-27dbad93748e"
      },
      "execution_count": null,
      "outputs": [
        {
          "output_type": "stream",
          "name": "stdout",
          "text": [
            "Model: \"model\"\n",
            "__________________________________________________________________________________________________\n",
            " Layer (type)                Output Shape                 Param #   Connected to                  \n",
            "==================================================================================================\n",
            " input_1 (InputLayer)        [(None, 224, 224, 3)]        0         []                            \n",
            "                                                                                                  \n",
            " conv1_pad (ZeroPadding2D)   (None, 230, 230, 3)          0         ['input_1[0][0]']             \n",
            "                                                                                                  \n",
            " conv1_conv (Conv2D)         (None, 112, 112, 64)         9472      ['conv1_pad[0][0]']           \n",
            "                                                                                                  \n",
            " conv1_bn (BatchNormalizati  (None, 112, 112, 64)         256       ['conv1_conv[0][0]']          \n",
            " on)                                                                                              \n",
            "                                                                                                  \n",
            " conv1_relu (Activation)     (None, 112, 112, 64)         0         ['conv1_bn[0][0]']            \n",
            "                                                                                                  \n",
            " pool1_pad (ZeroPadding2D)   (None, 114, 114, 64)         0         ['conv1_relu[0][0]']          \n",
            "                                                                                                  \n",
            " pool1_pool (MaxPooling2D)   (None, 56, 56, 64)           0         ['pool1_pad[0][0]']           \n",
            "                                                                                                  \n",
            " conv2_block1_1_conv (Conv2  (None, 56, 56, 64)           4160      ['pool1_pool[0][0]']          \n",
            " D)                                                                                               \n",
            "                                                                                                  \n",
            " conv2_block1_1_bn (BatchNo  (None, 56, 56, 64)           256       ['conv2_block1_1_conv[0][0]'] \n",
            " rmalization)                                                                                     \n",
            "                                                                                                  \n",
            " conv2_block1_1_relu (Activ  (None, 56, 56, 64)           0         ['conv2_block1_1_bn[0][0]']   \n",
            " ation)                                                                                           \n",
            "                                                                                                  \n",
            " conv2_block1_2_conv (Conv2  (None, 56, 56, 64)           36928     ['conv2_block1_1_relu[0][0]'] \n",
            " D)                                                                                               \n",
            "                                                                                                  \n",
            " conv2_block1_2_bn (BatchNo  (None, 56, 56, 64)           256       ['conv2_block1_2_conv[0][0]'] \n",
            " rmalization)                                                                                     \n",
            "                                                                                                  \n",
            " conv2_block1_2_relu (Activ  (None, 56, 56, 64)           0         ['conv2_block1_2_bn[0][0]']   \n",
            " ation)                                                                                           \n",
            "                                                                                                  \n",
            " conv2_block1_0_conv (Conv2  (None, 56, 56, 256)          16640     ['pool1_pool[0][0]']          \n",
            " D)                                                                                               \n",
            "                                                                                                  \n",
            " conv2_block1_3_conv (Conv2  (None, 56, 56, 256)          16640     ['conv2_block1_2_relu[0][0]'] \n",
            " D)                                                                                               \n",
            "                                                                                                  \n",
            " conv2_block1_0_bn (BatchNo  (None, 56, 56, 256)          1024      ['conv2_block1_0_conv[0][0]'] \n",
            " rmalization)                                                                                     \n",
            "                                                                                                  \n",
            " conv2_block1_3_bn (BatchNo  (None, 56, 56, 256)          1024      ['conv2_block1_3_conv[0][0]'] \n",
            " rmalization)                                                                                     \n",
            "                                                                                                  \n",
            " conv2_block1_add (Add)      (None, 56, 56, 256)          0         ['conv2_block1_0_bn[0][0]',   \n",
            "                                                                     'conv2_block1_3_bn[0][0]']   \n",
            "                                                                                                  \n",
            " conv2_block1_out (Activati  (None, 56, 56, 256)          0         ['conv2_block1_add[0][0]']    \n",
            " on)                                                                                              \n",
            "                                                                                                  \n",
            " conv2_block2_1_conv (Conv2  (None, 56, 56, 64)           16448     ['conv2_block1_out[0][0]']    \n",
            " D)                                                                                               \n",
            "                                                                                                  \n",
            " conv2_block2_1_bn (BatchNo  (None, 56, 56, 64)           256       ['conv2_block2_1_conv[0][0]'] \n",
            " rmalization)                                                                                     \n",
            "                                                                                                  \n",
            " conv2_block2_1_relu (Activ  (None, 56, 56, 64)           0         ['conv2_block2_1_bn[0][0]']   \n",
            " ation)                                                                                           \n",
            "                                                                                                  \n",
            " conv2_block2_2_conv (Conv2  (None, 56, 56, 64)           36928     ['conv2_block2_1_relu[0][0]'] \n",
            " D)                                                                                               \n",
            "                                                                                                  \n",
            " conv2_block2_2_bn (BatchNo  (None, 56, 56, 64)           256       ['conv2_block2_2_conv[0][0]'] \n",
            " rmalization)                                                                                     \n",
            "                                                                                                  \n",
            " conv2_block2_2_relu (Activ  (None, 56, 56, 64)           0         ['conv2_block2_2_bn[0][0]']   \n",
            " ation)                                                                                           \n",
            "                                                                                                  \n",
            " conv2_block2_3_conv (Conv2  (None, 56, 56, 256)          16640     ['conv2_block2_2_relu[0][0]'] \n",
            " D)                                                                                               \n",
            "                                                                                                  \n",
            " conv2_block2_3_bn (BatchNo  (None, 56, 56, 256)          1024      ['conv2_block2_3_conv[0][0]'] \n",
            " rmalization)                                                                                     \n",
            "                                                                                                  \n",
            " conv2_block2_add (Add)      (None, 56, 56, 256)          0         ['conv2_block1_out[0][0]',    \n",
            "                                                                     'conv2_block2_3_bn[0][0]']   \n",
            "                                                                                                  \n",
            " conv2_block2_out (Activati  (None, 56, 56, 256)          0         ['conv2_block2_add[0][0]']    \n",
            " on)                                                                                              \n",
            "                                                                                                  \n",
            " conv2_block3_1_conv (Conv2  (None, 56, 56, 64)           16448     ['conv2_block2_out[0][0]']    \n",
            " D)                                                                                               \n",
            "                                                                                                  \n",
            " conv2_block3_1_bn (BatchNo  (None, 56, 56, 64)           256       ['conv2_block3_1_conv[0][0]'] \n",
            " rmalization)                                                                                     \n",
            "                                                                                                  \n",
            " conv2_block3_1_relu (Activ  (None, 56, 56, 64)           0         ['conv2_block3_1_bn[0][0]']   \n",
            " ation)                                                                                           \n",
            "                                                                                                  \n",
            " conv2_block3_2_conv (Conv2  (None, 56, 56, 64)           36928     ['conv2_block3_1_relu[0][0]'] \n",
            " D)                                                                                               \n",
            "                                                                                                  \n",
            " conv2_block3_2_bn (BatchNo  (None, 56, 56, 64)           256       ['conv2_block3_2_conv[0][0]'] \n",
            " rmalization)                                                                                     \n",
            "                                                                                                  \n",
            " conv2_block3_2_relu (Activ  (None, 56, 56, 64)           0         ['conv2_block3_2_bn[0][0]']   \n",
            " ation)                                                                                           \n",
            "                                                                                                  \n",
            " conv2_block3_3_conv (Conv2  (None, 56, 56, 256)          16640     ['conv2_block3_2_relu[0][0]'] \n",
            " D)                                                                                               \n",
            "                                                                                                  \n",
            " conv2_block3_3_bn (BatchNo  (None, 56, 56, 256)          1024      ['conv2_block3_3_conv[0][0]'] \n",
            " rmalization)                                                                                     \n",
            "                                                                                                  \n",
            " conv2_block3_add (Add)      (None, 56, 56, 256)          0         ['conv2_block2_out[0][0]',    \n",
            "                                                                     'conv2_block3_3_bn[0][0]']   \n",
            "                                                                                                  \n",
            " conv2_block3_out (Activati  (None, 56, 56, 256)          0         ['conv2_block3_add[0][0]']    \n",
            " on)                                                                                              \n",
            "                                                                                                  \n",
            " conv3_block1_1_conv (Conv2  (None, 28, 28, 128)          32896     ['conv2_block3_out[0][0]']    \n",
            " D)                                                                                               \n",
            "                                                                                                  \n",
            " conv3_block1_1_bn (BatchNo  (None, 28, 28, 128)          512       ['conv3_block1_1_conv[0][0]'] \n",
            " rmalization)                                                                                     \n",
            "                                                                                                  \n",
            " conv3_block1_1_relu (Activ  (None, 28, 28, 128)          0         ['conv3_block1_1_bn[0][0]']   \n",
            " ation)                                                                                           \n",
            "                                                                                                  \n",
            " conv3_block1_2_conv (Conv2  (None, 28, 28, 128)          147584    ['conv3_block1_1_relu[0][0]'] \n",
            " D)                                                                                               \n",
            "                                                                                                  \n",
            " conv3_block1_2_bn (BatchNo  (None, 28, 28, 128)          512       ['conv3_block1_2_conv[0][0]'] \n",
            " rmalization)                                                                                     \n",
            "                                                                                                  \n",
            " conv3_block1_2_relu (Activ  (None, 28, 28, 128)          0         ['conv3_block1_2_bn[0][0]']   \n",
            " ation)                                                                                           \n",
            "                                                                                                  \n",
            " conv3_block1_0_conv (Conv2  (None, 28, 28, 512)          131584    ['conv2_block3_out[0][0]']    \n",
            " D)                                                                                               \n",
            "                                                                                                  \n",
            " conv3_block1_3_conv (Conv2  (None, 28, 28, 512)          66048     ['conv3_block1_2_relu[0][0]'] \n",
            " D)                                                                                               \n",
            "                                                                                                  \n",
            " conv3_block1_0_bn (BatchNo  (None, 28, 28, 512)          2048      ['conv3_block1_0_conv[0][0]'] \n",
            " rmalization)                                                                                     \n",
            "                                                                                                  \n",
            " conv3_block1_3_bn (BatchNo  (None, 28, 28, 512)          2048      ['conv3_block1_3_conv[0][0]'] \n",
            " rmalization)                                                                                     \n",
            "                                                                                                  \n",
            " conv3_block1_add (Add)      (None, 28, 28, 512)          0         ['conv3_block1_0_bn[0][0]',   \n",
            "                                                                     'conv3_block1_3_bn[0][0]']   \n",
            "                                                                                                  \n",
            " conv3_block1_out (Activati  (None, 28, 28, 512)          0         ['conv3_block1_add[0][0]']    \n",
            " on)                                                                                              \n",
            "                                                                                                  \n",
            " conv3_block2_1_conv (Conv2  (None, 28, 28, 128)          65664     ['conv3_block1_out[0][0]']    \n",
            " D)                                                                                               \n",
            "                                                                                                  \n",
            " conv3_block2_1_bn (BatchNo  (None, 28, 28, 128)          512       ['conv3_block2_1_conv[0][0]'] \n",
            " rmalization)                                                                                     \n",
            "                                                                                                  \n",
            " conv3_block2_1_relu (Activ  (None, 28, 28, 128)          0         ['conv3_block2_1_bn[0][0]']   \n",
            " ation)                                                                                           \n",
            "                                                                                                  \n",
            " conv3_block2_2_conv (Conv2  (None, 28, 28, 128)          147584    ['conv3_block2_1_relu[0][0]'] \n",
            " D)                                                                                               \n",
            "                                                                                                  \n",
            " conv3_block2_2_bn (BatchNo  (None, 28, 28, 128)          512       ['conv3_block2_2_conv[0][0]'] \n",
            " rmalization)                                                                                     \n",
            "                                                                                                  \n",
            " conv3_block2_2_relu (Activ  (None, 28, 28, 128)          0         ['conv3_block2_2_bn[0][0]']   \n",
            " ation)                                                                                           \n",
            "                                                                                                  \n",
            " conv3_block2_3_conv (Conv2  (None, 28, 28, 512)          66048     ['conv3_block2_2_relu[0][0]'] \n",
            " D)                                                                                               \n",
            "                                                                                                  \n",
            " conv3_block2_3_bn (BatchNo  (None, 28, 28, 512)          2048      ['conv3_block2_3_conv[0][0]'] \n",
            " rmalization)                                                                                     \n",
            "                                                                                                  \n",
            " conv3_block2_add (Add)      (None, 28, 28, 512)          0         ['conv3_block1_out[0][0]',    \n",
            "                                                                     'conv3_block2_3_bn[0][0]']   \n",
            "                                                                                                  \n",
            " conv3_block2_out (Activati  (None, 28, 28, 512)          0         ['conv3_block2_add[0][0]']    \n",
            " on)                                                                                              \n",
            "                                                                                                  \n",
            " conv3_block3_1_conv (Conv2  (None, 28, 28, 128)          65664     ['conv3_block2_out[0][0]']    \n",
            " D)                                                                                               \n",
            "                                                                                                  \n",
            " conv3_block3_1_bn (BatchNo  (None, 28, 28, 128)          512       ['conv3_block3_1_conv[0][0]'] \n",
            " rmalization)                                                                                     \n",
            "                                                                                                  \n",
            " conv3_block3_1_relu (Activ  (None, 28, 28, 128)          0         ['conv3_block3_1_bn[0][0]']   \n",
            " ation)                                                                                           \n",
            "                                                                                                  \n",
            " conv3_block3_2_conv (Conv2  (None, 28, 28, 128)          147584    ['conv3_block3_1_relu[0][0]'] \n",
            " D)                                                                                               \n",
            "                                                                                                  \n",
            " conv3_block3_2_bn (BatchNo  (None, 28, 28, 128)          512       ['conv3_block3_2_conv[0][0]'] \n",
            " rmalization)                                                                                     \n",
            "                                                                                                  \n",
            " conv3_block3_2_relu (Activ  (None, 28, 28, 128)          0         ['conv3_block3_2_bn[0][0]']   \n",
            " ation)                                                                                           \n",
            "                                                                                                  \n",
            " conv3_block3_3_conv (Conv2  (None, 28, 28, 512)          66048     ['conv3_block3_2_relu[0][0]'] \n",
            " D)                                                                                               \n",
            "                                                                                                  \n",
            " conv3_block3_3_bn (BatchNo  (None, 28, 28, 512)          2048      ['conv3_block3_3_conv[0][0]'] \n",
            " rmalization)                                                                                     \n",
            "                                                                                                  \n",
            " conv3_block3_add (Add)      (None, 28, 28, 512)          0         ['conv3_block2_out[0][0]',    \n",
            "                                                                     'conv3_block3_3_bn[0][0]']   \n",
            "                                                                                                  \n",
            " conv3_block3_out (Activati  (None, 28, 28, 512)          0         ['conv3_block3_add[0][0]']    \n",
            " on)                                                                                              \n",
            "                                                                                                  \n",
            " conv3_block4_1_conv (Conv2  (None, 28, 28, 128)          65664     ['conv3_block3_out[0][0]']    \n",
            " D)                                                                                               \n",
            "                                                                                                  \n",
            " conv3_block4_1_bn (BatchNo  (None, 28, 28, 128)          512       ['conv3_block4_1_conv[0][0]'] \n",
            " rmalization)                                                                                     \n",
            "                                                                                                  \n",
            " conv3_block4_1_relu (Activ  (None, 28, 28, 128)          0         ['conv3_block4_1_bn[0][0]']   \n",
            " ation)                                                                                           \n",
            "                                                                                                  \n",
            " conv3_block4_2_conv (Conv2  (None, 28, 28, 128)          147584    ['conv3_block4_1_relu[0][0]'] \n",
            " D)                                                                                               \n",
            "                                                                                                  \n",
            " conv3_block4_2_bn (BatchNo  (None, 28, 28, 128)          512       ['conv3_block4_2_conv[0][0]'] \n",
            " rmalization)                                                                                     \n",
            "                                                                                                  \n",
            " conv3_block4_2_relu (Activ  (None, 28, 28, 128)          0         ['conv3_block4_2_bn[0][0]']   \n",
            " ation)                                                                                           \n",
            "                                                                                                  \n",
            " conv3_block4_3_conv (Conv2  (None, 28, 28, 512)          66048     ['conv3_block4_2_relu[0][0]'] \n",
            " D)                                                                                               \n",
            "                                                                                                  \n",
            " conv3_block4_3_bn (BatchNo  (None, 28, 28, 512)          2048      ['conv3_block4_3_conv[0][0]'] \n",
            " rmalization)                                                                                     \n",
            "                                                                                                  \n",
            " conv3_block4_add (Add)      (None, 28, 28, 512)          0         ['conv3_block3_out[0][0]',    \n",
            "                                                                     'conv3_block4_3_bn[0][0]']   \n",
            "                                                                                                  \n",
            " conv3_block4_out (Activati  (None, 28, 28, 512)          0         ['conv3_block4_add[0][0]']    \n",
            " on)                                                                                              \n",
            "                                                                                                  \n",
            " conv4_block1_1_conv (Conv2  (None, 14, 14, 256)          131328    ['conv3_block4_out[0][0]']    \n",
            " D)                                                                                               \n",
            "                                                                                                  \n",
            " conv4_block1_1_bn (BatchNo  (None, 14, 14, 256)          1024      ['conv4_block1_1_conv[0][0]'] \n",
            " rmalization)                                                                                     \n",
            "                                                                                                  \n",
            " conv4_block1_1_relu (Activ  (None, 14, 14, 256)          0         ['conv4_block1_1_bn[0][0]']   \n",
            " ation)                                                                                           \n",
            "                                                                                                  \n",
            " conv4_block1_2_conv (Conv2  (None, 14, 14, 256)          590080    ['conv4_block1_1_relu[0][0]'] \n",
            " D)                                                                                               \n",
            "                                                                                                  \n",
            " conv4_block1_2_bn (BatchNo  (None, 14, 14, 256)          1024      ['conv4_block1_2_conv[0][0]'] \n",
            " rmalization)                                                                                     \n",
            "                                                                                                  \n",
            " conv4_block1_2_relu (Activ  (None, 14, 14, 256)          0         ['conv4_block1_2_bn[0][0]']   \n",
            " ation)                                                                                           \n",
            "                                                                                                  \n",
            " conv4_block1_0_conv (Conv2  (None, 14, 14, 1024)         525312    ['conv3_block4_out[0][0]']    \n",
            " D)                                                                                               \n",
            "                                                                                                  \n",
            " conv4_block1_3_conv (Conv2  (None, 14, 14, 1024)         263168    ['conv4_block1_2_relu[0][0]'] \n",
            " D)                                                                                               \n",
            "                                                                                                  \n",
            " conv4_block1_0_bn (BatchNo  (None, 14, 14, 1024)         4096      ['conv4_block1_0_conv[0][0]'] \n",
            " rmalization)                                                                                     \n",
            "                                                                                                  \n",
            " conv4_block1_3_bn (BatchNo  (None, 14, 14, 1024)         4096      ['conv4_block1_3_conv[0][0]'] \n",
            " rmalization)                                                                                     \n",
            "                                                                                                  \n",
            " conv4_block1_add (Add)      (None, 14, 14, 1024)         0         ['conv4_block1_0_bn[0][0]',   \n",
            "                                                                     'conv4_block1_3_bn[0][0]']   \n",
            "                                                                                                  \n",
            " conv4_block1_out (Activati  (None, 14, 14, 1024)         0         ['conv4_block1_add[0][0]']    \n",
            " on)                                                                                              \n",
            "                                                                                                  \n",
            " conv4_block2_1_conv (Conv2  (None, 14, 14, 256)          262400    ['conv4_block1_out[0][0]']    \n",
            " D)                                                                                               \n",
            "                                                                                                  \n",
            " conv4_block2_1_bn (BatchNo  (None, 14, 14, 256)          1024      ['conv4_block2_1_conv[0][0]'] \n",
            " rmalization)                                                                                     \n",
            "                                                                                                  \n",
            " conv4_block2_1_relu (Activ  (None, 14, 14, 256)          0         ['conv4_block2_1_bn[0][0]']   \n",
            " ation)                                                                                           \n",
            "                                                                                                  \n",
            " conv4_block2_2_conv (Conv2  (None, 14, 14, 256)          590080    ['conv4_block2_1_relu[0][0]'] \n",
            " D)                                                                                               \n",
            "                                                                                                  \n",
            " conv4_block2_2_bn (BatchNo  (None, 14, 14, 256)          1024      ['conv4_block2_2_conv[0][0]'] \n",
            " rmalization)                                                                                     \n",
            "                                                                                                  \n",
            " conv4_block2_2_relu (Activ  (None, 14, 14, 256)          0         ['conv4_block2_2_bn[0][0]']   \n",
            " ation)                                                                                           \n",
            "                                                                                                  \n",
            " conv4_block2_3_conv (Conv2  (None, 14, 14, 1024)         263168    ['conv4_block2_2_relu[0][0]'] \n",
            " D)                                                                                               \n",
            "                                                                                                  \n",
            " conv4_block2_3_bn (BatchNo  (None, 14, 14, 1024)         4096      ['conv4_block2_3_conv[0][0]'] \n",
            " rmalization)                                                                                     \n",
            "                                                                                                  \n",
            " conv4_block2_add (Add)      (None, 14, 14, 1024)         0         ['conv4_block1_out[0][0]',    \n",
            "                                                                     'conv4_block2_3_bn[0][0]']   \n",
            "                                                                                                  \n",
            " conv4_block2_out (Activati  (None, 14, 14, 1024)         0         ['conv4_block2_add[0][0]']    \n",
            " on)                                                                                              \n",
            "                                                                                                  \n",
            " conv4_block3_1_conv (Conv2  (None, 14, 14, 256)          262400    ['conv4_block2_out[0][0]']    \n",
            " D)                                                                                               \n",
            "                                                                                                  \n",
            " conv4_block3_1_bn (BatchNo  (None, 14, 14, 256)          1024      ['conv4_block3_1_conv[0][0]'] \n",
            " rmalization)                                                                                     \n",
            "                                                                                                  \n",
            " conv4_block3_1_relu (Activ  (None, 14, 14, 256)          0         ['conv4_block3_1_bn[0][0]']   \n",
            " ation)                                                                                           \n",
            "                                                                                                  \n",
            " conv4_block3_2_conv (Conv2  (None, 14, 14, 256)          590080    ['conv4_block3_1_relu[0][0]'] \n",
            " D)                                                                                               \n",
            "                                                                                                  \n",
            " conv4_block3_2_bn (BatchNo  (None, 14, 14, 256)          1024      ['conv4_block3_2_conv[0][0]'] \n",
            " rmalization)                                                                                     \n",
            "                                                                                                  \n",
            " conv4_block3_2_relu (Activ  (None, 14, 14, 256)          0         ['conv4_block3_2_bn[0][0]']   \n",
            " ation)                                                                                           \n",
            "                                                                                                  \n",
            " conv4_block3_3_conv (Conv2  (None, 14, 14, 1024)         263168    ['conv4_block3_2_relu[0][0]'] \n",
            " D)                                                                                               \n",
            "                                                                                                  \n",
            " conv4_block3_3_bn (BatchNo  (None, 14, 14, 1024)         4096      ['conv4_block3_3_conv[0][0]'] \n",
            " rmalization)                                                                                     \n",
            "                                                                                                  \n",
            " conv4_block3_add (Add)      (None, 14, 14, 1024)         0         ['conv4_block2_out[0][0]',    \n",
            "                                                                     'conv4_block3_3_bn[0][0]']   \n",
            "                                                                                                  \n",
            " conv4_block3_out (Activati  (None, 14, 14, 1024)         0         ['conv4_block3_add[0][0]']    \n",
            " on)                                                                                              \n",
            "                                                                                                  \n",
            " conv4_block4_1_conv (Conv2  (None, 14, 14, 256)          262400    ['conv4_block3_out[0][0]']    \n",
            " D)                                                                                               \n",
            "                                                                                                  \n",
            " conv4_block4_1_bn (BatchNo  (None, 14, 14, 256)          1024      ['conv4_block4_1_conv[0][0]'] \n",
            " rmalization)                                                                                     \n",
            "                                                                                                  \n",
            " conv4_block4_1_relu (Activ  (None, 14, 14, 256)          0         ['conv4_block4_1_bn[0][0]']   \n",
            " ation)                                                                                           \n",
            "                                                                                                  \n",
            " conv4_block4_2_conv (Conv2  (None, 14, 14, 256)          590080    ['conv4_block4_1_relu[0][0]'] \n",
            " D)                                                                                               \n",
            "                                                                                                  \n",
            " conv4_block4_2_bn (BatchNo  (None, 14, 14, 256)          1024      ['conv4_block4_2_conv[0][0]'] \n",
            " rmalization)                                                                                     \n",
            "                                                                                                  \n",
            " conv4_block4_2_relu (Activ  (None, 14, 14, 256)          0         ['conv4_block4_2_bn[0][0]']   \n",
            " ation)                                                                                           \n",
            "                                                                                                  \n",
            " conv4_block4_3_conv (Conv2  (None, 14, 14, 1024)         263168    ['conv4_block4_2_relu[0][0]'] \n",
            " D)                                                                                               \n",
            "                                                                                                  \n",
            " conv4_block4_3_bn (BatchNo  (None, 14, 14, 1024)         4096      ['conv4_block4_3_conv[0][0]'] \n",
            " rmalization)                                                                                     \n",
            "                                                                                                  \n",
            " conv4_block4_add (Add)      (None, 14, 14, 1024)         0         ['conv4_block3_out[0][0]',    \n",
            "                                                                     'conv4_block4_3_bn[0][0]']   \n",
            "                                                                                                  \n",
            " conv4_block4_out (Activati  (None, 14, 14, 1024)         0         ['conv4_block4_add[0][0]']    \n",
            " on)                                                                                              \n",
            "                                                                                                  \n",
            " conv4_block5_1_conv (Conv2  (None, 14, 14, 256)          262400    ['conv4_block4_out[0][0]']    \n",
            " D)                                                                                               \n",
            "                                                                                                  \n",
            " conv4_block5_1_bn (BatchNo  (None, 14, 14, 256)          1024      ['conv4_block5_1_conv[0][0]'] \n",
            " rmalization)                                                                                     \n",
            "                                                                                                  \n",
            " conv4_block5_1_relu (Activ  (None, 14, 14, 256)          0         ['conv4_block5_1_bn[0][0]']   \n",
            " ation)                                                                                           \n",
            "                                                                                                  \n",
            " conv4_block5_2_conv (Conv2  (None, 14, 14, 256)          590080    ['conv4_block5_1_relu[0][0]'] \n",
            " D)                                                                                               \n",
            "                                                                                                  \n",
            " conv4_block5_2_bn (BatchNo  (None, 14, 14, 256)          1024      ['conv4_block5_2_conv[0][0]'] \n",
            " rmalization)                                                                                     \n",
            "                                                                                                  \n",
            " conv4_block5_2_relu (Activ  (None, 14, 14, 256)          0         ['conv4_block5_2_bn[0][0]']   \n",
            " ation)                                                                                           \n",
            "                                                                                                  \n",
            " conv4_block5_3_conv (Conv2  (None, 14, 14, 1024)         263168    ['conv4_block5_2_relu[0][0]'] \n",
            " D)                                                                                               \n",
            "                                                                                                  \n",
            " conv4_block5_3_bn (BatchNo  (None, 14, 14, 1024)         4096      ['conv4_block5_3_conv[0][0]'] \n",
            " rmalization)                                                                                     \n",
            "                                                                                                  \n",
            " conv4_block5_add (Add)      (None, 14, 14, 1024)         0         ['conv4_block4_out[0][0]',    \n",
            "                                                                     'conv4_block5_3_bn[0][0]']   \n",
            "                                                                                                  \n",
            " conv4_block5_out (Activati  (None, 14, 14, 1024)         0         ['conv4_block5_add[0][0]']    \n",
            " on)                                                                                              \n",
            "                                                                                                  \n",
            " conv4_block6_1_conv (Conv2  (None, 14, 14, 256)          262400    ['conv4_block5_out[0][0]']    \n",
            " D)                                                                                               \n",
            "                                                                                                  \n",
            " conv4_block6_1_bn (BatchNo  (None, 14, 14, 256)          1024      ['conv4_block6_1_conv[0][0]'] \n",
            " rmalization)                                                                                     \n",
            "                                                                                                  \n",
            " conv4_block6_1_relu (Activ  (None, 14, 14, 256)          0         ['conv4_block6_1_bn[0][0]']   \n",
            " ation)                                                                                           \n",
            "                                                                                                  \n",
            " conv4_block6_2_conv (Conv2  (None, 14, 14, 256)          590080    ['conv4_block6_1_relu[0][0]'] \n",
            " D)                                                                                               \n",
            "                                                                                                  \n",
            " conv4_block6_2_bn (BatchNo  (None, 14, 14, 256)          1024      ['conv4_block6_2_conv[0][0]'] \n",
            " rmalization)                                                                                     \n",
            "                                                                                                  \n",
            " conv4_block6_2_relu (Activ  (None, 14, 14, 256)          0         ['conv4_block6_2_bn[0][0]']   \n",
            " ation)                                                                                           \n",
            "                                                                                                  \n",
            " conv4_block6_3_conv (Conv2  (None, 14, 14, 1024)         263168    ['conv4_block6_2_relu[0][0]'] \n",
            " D)                                                                                               \n",
            "                                                                                                  \n",
            " conv4_block6_3_bn (BatchNo  (None, 14, 14, 1024)         4096      ['conv4_block6_3_conv[0][0]'] \n",
            " rmalization)                                                                                     \n",
            "                                                                                                  \n",
            " conv4_block6_add (Add)      (None, 14, 14, 1024)         0         ['conv4_block5_out[0][0]',    \n",
            "                                                                     'conv4_block6_3_bn[0][0]']   \n",
            "                                                                                                  \n",
            " conv4_block6_out (Activati  (None, 14, 14, 1024)         0         ['conv4_block6_add[0][0]']    \n",
            " on)                                                                                              \n",
            "                                                                                                  \n",
            " conv5_block1_1_conv (Conv2  (None, 7, 7, 512)            524800    ['conv4_block6_out[0][0]']    \n",
            " D)                                                                                               \n",
            "                                                                                                  \n",
            " conv5_block1_1_bn (BatchNo  (None, 7, 7, 512)            2048      ['conv5_block1_1_conv[0][0]'] \n",
            " rmalization)                                                                                     \n",
            "                                                                                                  \n",
            " conv5_block1_1_relu (Activ  (None, 7, 7, 512)            0         ['conv5_block1_1_bn[0][0]']   \n",
            " ation)                                                                                           \n",
            "                                                                                                  \n",
            " conv5_block1_2_conv (Conv2  (None, 7, 7, 512)            2359808   ['conv5_block1_1_relu[0][0]'] \n",
            " D)                                                                                               \n",
            "                                                                                                  \n",
            " conv5_block1_2_bn (BatchNo  (None, 7, 7, 512)            2048      ['conv5_block1_2_conv[0][0]'] \n",
            " rmalization)                                                                                     \n",
            "                                                                                                  \n",
            " conv5_block1_2_relu (Activ  (None, 7, 7, 512)            0         ['conv5_block1_2_bn[0][0]']   \n",
            " ation)                                                                                           \n",
            "                                                                                                  \n",
            " conv5_block1_0_conv (Conv2  (None, 7, 7, 2048)           2099200   ['conv4_block6_out[0][0]']    \n",
            " D)                                                                                               \n",
            "                                                                                                  \n",
            " conv5_block1_3_conv (Conv2  (None, 7, 7, 2048)           1050624   ['conv5_block1_2_relu[0][0]'] \n",
            " D)                                                                                               \n",
            "                                                                                                  \n",
            " conv5_block1_0_bn (BatchNo  (None, 7, 7, 2048)           8192      ['conv5_block1_0_conv[0][0]'] \n",
            " rmalization)                                                                                     \n",
            "                                                                                                  \n",
            " conv5_block1_3_bn (BatchNo  (None, 7, 7, 2048)           8192      ['conv5_block1_3_conv[0][0]'] \n",
            " rmalization)                                                                                     \n",
            "                                                                                                  \n",
            " conv5_block1_add (Add)      (None, 7, 7, 2048)           0         ['conv5_block1_0_bn[0][0]',   \n",
            "                                                                     'conv5_block1_3_bn[0][0]']   \n",
            "                                                                                                  \n",
            " conv5_block1_out (Activati  (None, 7, 7, 2048)           0         ['conv5_block1_add[0][0]']    \n",
            " on)                                                                                              \n",
            "                                                                                                  \n",
            " conv5_block2_1_conv (Conv2  (None, 7, 7, 512)            1049088   ['conv5_block1_out[0][0]']    \n",
            " D)                                                                                               \n",
            "                                                                                                  \n",
            " conv5_block2_1_bn (BatchNo  (None, 7, 7, 512)            2048      ['conv5_block2_1_conv[0][0]'] \n",
            " rmalization)                                                                                     \n",
            "                                                                                                  \n",
            " conv5_block2_1_relu (Activ  (None, 7, 7, 512)            0         ['conv5_block2_1_bn[0][0]']   \n",
            " ation)                                                                                           \n",
            "                                                                                                  \n",
            " conv5_block2_2_conv (Conv2  (None, 7, 7, 512)            2359808   ['conv5_block2_1_relu[0][0]'] \n",
            " D)                                                                                               \n",
            "                                                                                                  \n",
            " conv5_block2_2_bn (BatchNo  (None, 7, 7, 512)            2048      ['conv5_block2_2_conv[0][0]'] \n",
            " rmalization)                                                                                     \n",
            "                                                                                                  \n",
            " conv5_block2_2_relu (Activ  (None, 7, 7, 512)            0         ['conv5_block2_2_bn[0][0]']   \n",
            " ation)                                                                                           \n",
            "                                                                                                  \n",
            " conv5_block2_3_conv (Conv2  (None, 7, 7, 2048)           1050624   ['conv5_block2_2_relu[0][0]'] \n",
            " D)                                                                                               \n",
            "                                                                                                  \n",
            " conv5_block2_3_bn (BatchNo  (None, 7, 7, 2048)           8192      ['conv5_block2_3_conv[0][0]'] \n",
            " rmalization)                                                                                     \n",
            "                                                                                                  \n",
            " conv5_block2_add (Add)      (None, 7, 7, 2048)           0         ['conv5_block1_out[0][0]',    \n",
            "                                                                     'conv5_block2_3_bn[0][0]']   \n",
            "                                                                                                  \n",
            " conv5_block2_out (Activati  (None, 7, 7, 2048)           0         ['conv5_block2_add[0][0]']    \n",
            " on)                                                                                              \n",
            "                                                                                                  \n",
            " conv5_block3_1_conv (Conv2  (None, 7, 7, 512)            1049088   ['conv5_block2_out[0][0]']    \n",
            " D)                                                                                               \n",
            "                                                                                                  \n",
            " conv5_block3_1_bn (BatchNo  (None, 7, 7, 512)            2048      ['conv5_block3_1_conv[0][0]'] \n",
            " rmalization)                                                                                     \n",
            "                                                                                                  \n",
            " conv5_block3_1_relu (Activ  (None, 7, 7, 512)            0         ['conv5_block3_1_bn[0][0]']   \n",
            " ation)                                                                                           \n",
            "                                                                                                  \n",
            " conv5_block3_2_conv (Conv2  (None, 7, 7, 512)            2359808   ['conv5_block3_1_relu[0][0]'] \n",
            " D)                                                                                               \n",
            "                                                                                                  \n",
            " conv5_block3_2_bn (BatchNo  (None, 7, 7, 512)            2048      ['conv5_block3_2_conv[0][0]'] \n",
            " rmalization)                                                                                     \n",
            "                                                                                                  \n",
            " conv5_block3_2_relu (Activ  (None, 7, 7, 512)            0         ['conv5_block3_2_bn[0][0]']   \n",
            " ation)                                                                                           \n",
            "                                                                                                  \n",
            " conv5_block3_3_conv (Conv2  (None, 7, 7, 2048)           1050624   ['conv5_block3_2_relu[0][0]'] \n",
            " D)                                                                                               \n",
            "                                                                                                  \n",
            " conv5_block3_3_bn (BatchNo  (None, 7, 7, 2048)           8192      ['conv5_block3_3_conv[0][0]'] \n",
            " rmalization)                                                                                     \n",
            "                                                                                                  \n",
            " conv5_block3_add (Add)      (None, 7, 7, 2048)           0         ['conv5_block2_out[0][0]',    \n",
            "                                                                     'conv5_block3_3_bn[0][0]']   \n",
            "                                                                                                  \n",
            " conv5_block3_out (Activati  (None, 7, 7, 2048)           0         ['conv5_block3_add[0][0]']    \n",
            " on)                                                                                              \n",
            "                                                                                                  \n",
            " flatten (Flatten)           (None, 100352)               0         ['conv5_block3_out[0][0]']    \n",
            "                                                                                                  \n",
            " dense (Dense)               (None, 10)                   1003530   ['flatten[0][0]']             \n",
            "                                                                                                  \n",
            "==================================================================================================\n",
            "Total params: 24591242 (93.81 MB)\n",
            "Trainable params: 1003530 (3.83 MB)\n",
            "Non-trainable params: 23587712 (89.98 MB)\n",
            "__________________________________________________________________________________________________\n"
          ]
        }
      ]
    },
    {
      "cell_type": "code",
      "source": [
        "\n",
        "# tell the model what cost and optimization method to use\n",
        "model.compile(\n",
        "  loss='categorical_crossentropy',\n",
        "  optimizer='adam',\n",
        "  metrics=['accuracy']\n",
        ")"
      ],
      "metadata": {
        "id": "zGnOwpgK2PcO"
      },
      "execution_count": null,
      "outputs": []
    },
    {
      "cell_type": "code",
      "source": [
        "# Use the Image Data Generator to import the images from the dataset\n",
        "from tensorflow.keras.preprocessing.image import ImageDataGenerator\n",
        "\n",
        "train_datagen = ImageDataGenerator(rescale = 1./255,\n",
        "                                   shear_range = 0.2,\n",
        "                                   zoom_range = 0.2,\n",
        "                                   horizontal_flip = True)\n",
        "\n",
        "test_datagen = ImageDataGenerator(rescale = 1./255)"
      ],
      "metadata": {
        "id": "skBtV_V62Rqm"
      },
      "execution_count": null,
      "outputs": []
    },
    {
      "cell_type": "code",
      "source": [
        "\n",
        "# Make sure you provide the same target size as initialied for the image size\n",
        "training_set = train_datagen.flow_from_directory('/content/drive/MyDrive/tomato/train',\n",
        "                                                 target_size = (224, 224),\n",
        "                                                 batch_size = 32,\n",
        "                                                 class_mode = 'categorical')"
      ],
      "metadata": {
        "colab": {
          "base_uri": "https://localhost:8080/"
        },
        "id": "99FquiFc2UMQ",
        "outputId": "b58e5af4-ea5f-4603-9585-30c26e255187"
      },
      "execution_count": null,
      "outputs": [
        {
          "output_type": "stream",
          "name": "stdout",
          "text": [
            "Found 51 images belonging to 10 classes.\n"
          ]
        }
      ]
    },
    {
      "cell_type": "code",
      "source": [
        "\n",
        "test_set = test_datagen.flow_from_directory('/content/drive/MyDrive/tomato/valid',\n",
        "                                            target_size = (224, 224),\n",
        "                                            batch_size = 32,\n",
        "                                            class_mode = 'categorical')"
      ],
      "metadata": {
        "colab": {
          "base_uri": "https://localhost:8080/"
        },
        "id": "nXh1jMA22aDS",
        "outputId": "efd2aa9e-ce03-4caa-94eb-17aa938a1da5"
      },
      "execution_count": null,
      "outputs": [
        {
          "output_type": "stream",
          "name": "stdout",
          "text": [
            "Found 51 images belonging to 10 classes.\n"
          ]
        }
      ]
    },
    {
      "cell_type": "code",
      "source": [
        "# fit the model\n",
        "# Run the cell. It will take some time to execute\n",
        "r = model.fit_generator(\n",
        "  training_set,\n",
        "  validation_data=test_set,\n",
        "  epochs=50,\n",
        "  steps_per_epoch=len(training_set),\n",
        "  validation_steps=len(test_set)\n",
        ")"
      ],
      "metadata": {
        "colab": {
          "base_uri": "https://localhost:8080/"
        },
        "id": "b59qbbPm2f4-",
        "outputId": "30a328fe-2335-4793-e221-8f02410a3c44"
      },
      "execution_count": null,
      "outputs": [
        {
          "output_type": "stream",
          "name": "stderr",
          "text": [
            "<ipython-input-15-69229fe26ea3>:3: UserWarning: `Model.fit_generator` is deprecated and will be removed in a future version. Please use `Model.fit`, which supports generators.\n",
            "  r = model.fit_generator(\n"
          ]
        },
        {
          "output_type": "stream",
          "name": "stdout",
          "text": [
            "Epoch 1/50\n",
            "2/2 [==============================] - 48s 34s/step - loss: 6.7133 - accuracy: 0.0980 - val_loss: 7.5188 - val_accuracy: 0.1176\n",
            "Epoch 2/50\n",
            "2/2 [==============================] - 30s 26s/step - loss: 6.2027 - accuracy: 0.0784 - val_loss: 7.4042 - val_accuracy: 0.1176\n",
            "Epoch 3/50\n",
            "2/2 [==============================] - 30s 26s/step - loss: 7.3330 - accuracy: 0.1176 - val_loss: 6.4005 - val_accuracy: 0.2549\n",
            "Epoch 4/50\n",
            "2/2 [==============================] - 33s 24s/step - loss: 6.4565 - accuracy: 0.1961 - val_loss: 6.3013 - val_accuracy: 0.2157\n",
            "Epoch 5/50\n",
            "2/2 [==============================] - 21s 17s/step - loss: 6.4745 - accuracy: 0.1765 - val_loss: 5.1378 - val_accuracy: 0.2549\n",
            "Epoch 6/50\n",
            "2/2 [==============================] - 22s 15s/step - loss: 5.8429 - accuracy: 0.1373 - val_loss: 3.4942 - val_accuracy: 0.2549\n",
            "Epoch 7/50\n",
            "2/2 [==============================] - 25s 19s/step - loss: 2.7764 - accuracy: 0.2353 - val_loss: 2.8568 - val_accuracy: 0.1961\n",
            "Epoch 8/50\n",
            "2/2 [==============================] - 22s 15s/step - loss: 3.1810 - accuracy: 0.2353 - val_loss: 2.8092 - val_accuracy: 0.3333\n",
            "Epoch 9/50\n",
            "2/2 [==============================] - 22s 14s/step - loss: 3.3248 - accuracy: 0.2353 - val_loss: 3.4396 - val_accuracy: 0.2745\n",
            "Epoch 10/50\n",
            "2/2 [==============================] - 20s 14s/step - loss: 3.7690 - accuracy: 0.2745 - val_loss: 3.4910 - val_accuracy: 0.2157\n",
            "Epoch 11/50\n",
            "2/2 [==============================] - 22s 14s/step - loss: 3.4103 - accuracy: 0.2941 - val_loss: 2.6038 - val_accuracy: 0.2549\n",
            "Epoch 12/50\n",
            "2/2 [==============================] - 24s 19s/step - loss: 2.8344 - accuracy: 0.3137 - val_loss: 2.0519 - val_accuracy: 0.4314\n",
            "Epoch 13/50\n",
            "2/2 [==============================] - 22s 18s/step - loss: 2.1032 - accuracy: 0.2941 - val_loss: 1.8070 - val_accuracy: 0.4510\n",
            "Epoch 14/50\n",
            "2/2 [==============================] - 31s 26s/step - loss: 2.4010 - accuracy: 0.3137 - val_loss: 1.8484 - val_accuracy: 0.3529\n",
            "Epoch 15/50\n",
            "2/2 [==============================] - 23s 15s/step - loss: 1.7802 - accuracy: 0.3725 - val_loss: 1.6695 - val_accuracy: 0.4510\n",
            "Epoch 16/50\n",
            "2/2 [==============================] - 24s 16s/step - loss: 1.8201 - accuracy: 0.4118 - val_loss: 2.1363 - val_accuracy: 0.3529\n",
            "Epoch 17/50\n",
            "2/2 [==============================] - 20s 16s/step - loss: 2.0279 - accuracy: 0.4118 - val_loss: 1.4634 - val_accuracy: 0.4314\n",
            "Epoch 18/50\n",
            "2/2 [==============================] - 22s 17s/step - loss: 1.6567 - accuracy: 0.3333 - val_loss: 1.4059 - val_accuracy: 0.6863\n",
            "Epoch 19/50\n",
            "2/2 [==============================] - 22s 18s/step - loss: 1.6917 - accuracy: 0.4902 - val_loss: 1.4925 - val_accuracy: 0.5490\n",
            "Epoch 20/50\n",
            "2/2 [==============================] - 22s 18s/step - loss: 1.5721 - accuracy: 0.4510 - val_loss: 1.1689 - val_accuracy: 0.5490\n",
            "Epoch 21/50\n",
            "2/2 [==============================] - 32s 24s/step - loss: 1.3195 - accuracy: 0.4510 - val_loss: 1.3229 - val_accuracy: 0.4510\n",
            "Epoch 22/50\n",
            "2/2 [==============================] - 22s 17s/step - loss: 1.3868 - accuracy: 0.5098 - val_loss: 1.0333 - val_accuracy: 0.7059\n",
            "Epoch 23/50\n",
            "2/2 [==============================] - 25s 20s/step - loss: 1.2045 - accuracy: 0.5098 - val_loss: 1.0265 - val_accuracy: 0.6863\n",
            "Epoch 24/50\n",
            "2/2 [==============================] - 32s 26s/step - loss: 1.1548 - accuracy: 0.6275 - val_loss: 0.9628 - val_accuracy: 0.7255\n",
            "Epoch 25/50\n",
            "2/2 [==============================] - 32s 27s/step - loss: 1.3016 - accuracy: 0.6078 - val_loss: 1.0937 - val_accuracy: 0.5490\n",
            "Epoch 26/50\n",
            "2/2 [==============================] - 22s 18s/step - loss: 1.2073 - accuracy: 0.4902 - val_loss: 1.0307 - val_accuracy: 0.6078\n",
            "Epoch 27/50\n",
            "2/2 [==============================] - 23s 18s/step - loss: 1.2016 - accuracy: 0.4706 - val_loss: 0.8391 - val_accuracy: 0.8235\n",
            "Epoch 28/50\n",
            "2/2 [==============================] - 22s 15s/step - loss: 1.0141 - accuracy: 0.7843 - val_loss: 0.9617 - val_accuracy: 0.6863\n",
            "Epoch 29/50\n",
            "2/2 [==============================] - 32s 26s/step - loss: 1.3813 - accuracy: 0.5490 - val_loss: 0.9299 - val_accuracy: 0.6275\n",
            "Epoch 30/50\n",
            "2/2 [==============================] - 22s 18s/step - loss: 1.1138 - accuracy: 0.7059 - val_loss: 0.9737 - val_accuracy: 0.7451\n",
            "Epoch 31/50\n",
            "2/2 [==============================] - 24s 17s/step - loss: 1.1693 - accuracy: 0.6078 - val_loss: 0.8151 - val_accuracy: 0.7843\n",
            "Epoch 32/50\n",
            "2/2 [==============================] - 21s 17s/step - loss: 0.9865 - accuracy: 0.7451 - val_loss: 1.0048 - val_accuracy: 0.6471\n",
            "Epoch 33/50\n",
            "2/2 [==============================] - 32s 27s/step - loss: 1.2216 - accuracy: 0.6471 - val_loss: 0.7845 - val_accuracy: 0.7647\n",
            "Epoch 34/50\n",
            "2/2 [==============================] - 22s 15s/step - loss: 1.0232 - accuracy: 0.6863 - val_loss: 0.8940 - val_accuracy: 0.7255\n",
            "Epoch 35/50\n",
            "2/2 [==============================] - 33s 29s/step - loss: 1.1017 - accuracy: 0.6667 - val_loss: 0.9877 - val_accuracy: 0.6863\n",
            "Epoch 36/50\n",
            "2/2 [==============================] - 22s 17s/step - loss: 0.9905 - accuracy: 0.6471 - val_loss: 0.9034 - val_accuracy: 0.6863\n",
            "Epoch 37/50\n",
            "2/2 [==============================] - 30s 24s/step - loss: 0.9950 - accuracy: 0.6667 - val_loss: 0.8255 - val_accuracy: 0.7451\n",
            "Epoch 38/50\n",
            "2/2 [==============================] - 22s 17s/step - loss: 1.2945 - accuracy: 0.6078 - val_loss: 0.9468 - val_accuracy: 0.6863\n",
            "Epoch 39/50\n",
            "2/2 [==============================] - 20s 14s/step - loss: 1.1781 - accuracy: 0.6078 - val_loss: 0.8809 - val_accuracy: 0.6667\n",
            "Epoch 40/50\n",
            "2/2 [==============================] - 24s 19s/step - loss: 1.0389 - accuracy: 0.6667 - val_loss: 0.8021 - val_accuracy: 0.7255\n",
            "Epoch 41/50\n",
            "2/2 [==============================] - 23s 16s/step - loss: 1.0321 - accuracy: 0.6078 - val_loss: 0.8603 - val_accuracy: 0.7059\n",
            "Epoch 42/50\n",
            "2/2 [==============================] - 23s 19s/step - loss: 0.8923 - accuracy: 0.7451 - val_loss: 0.7315 - val_accuracy: 0.8039\n",
            "Epoch 43/50\n",
            "2/2 [==============================] - 26s 21s/step - loss: 0.8955 - accuracy: 0.7059 - val_loss: 0.6316 - val_accuracy: 0.8235\n",
            "Epoch 44/50\n",
            "2/2 [==============================] - 34s 24s/step - loss: 0.8326 - accuracy: 0.7451 - val_loss: 0.6142 - val_accuracy: 0.8431\n",
            "Epoch 45/50\n",
            "2/2 [==============================] - 23s 19s/step - loss: 0.8421 - accuracy: 0.7255 - val_loss: 0.6409 - val_accuracy: 0.8627\n",
            "Epoch 46/50\n",
            "2/2 [==============================] - 25s 18s/step - loss: 0.7786 - accuracy: 0.7647 - val_loss: 0.6916 - val_accuracy: 0.7843\n",
            "Epoch 47/50\n",
            "2/2 [==============================] - 26s 19s/step - loss: 0.8262 - accuracy: 0.7451 - val_loss: 0.7587 - val_accuracy: 0.7451\n",
            "Epoch 48/50\n",
            "2/2 [==============================] - 33s 25s/step - loss: 0.8346 - accuracy: 0.6863 - val_loss: 0.6147 - val_accuracy: 0.8039\n",
            "Epoch 49/50\n",
            "2/2 [==============================] - 33s 28s/step - loss: 0.7190 - accuracy: 0.8039 - val_loss: 0.6398 - val_accuracy: 0.8235\n",
            "Epoch 50/50\n",
            "2/2 [==============================] - 28s 19s/step - loss: 0.9038 - accuracy: 0.7451 - val_loss: 0.5936 - val_accuracy: 0.8235\n"
          ]
        }
      ]
    },
    {
      "cell_type": "code",
      "source": [
        "\n",
        "img=image.load_img('/content/drive/MyDrive/tomato/train/Tomato___Bacterial_spot/00a7c269-3476-4d25-b744-44d6353cd921___GCREC_Bact.Sp 5807.JPG',target_size=(224,224))"
      ],
      "metadata": {
        "id": "EvSPI3a59us6"
      },
      "execution_count": null,
      "outputs": []
    },
    {
      "cell_type": "code",
      "source": [
        "x=image.img_to_array(img)\n",
        "x"
      ],
      "metadata": {
        "colab": {
          "base_uri": "https://localhost:8080/"
        },
        "id": "yPwEPTrp90m_",
        "outputId": "f86868d0-a02f-4567-9e1a-fdcd678fd215"
      },
      "execution_count": null,
      "outputs": [
        {
          "output_type": "execute_result",
          "data": {
            "text/plain": [
              "array([[[172., 166., 166.],\n",
              "        [170., 164., 164.],\n",
              "        [174., 168., 168.],\n",
              "        ...,\n",
              "        [115., 105., 106.],\n",
              "        [126., 116., 117.],\n",
              "        [137., 127., 128.]],\n",
              "\n",
              "       [[173., 167., 167.],\n",
              "        [168., 162., 162.],\n",
              "        [169., 163., 163.],\n",
              "        ...,\n",
              "        [142., 132., 133.],\n",
              "        [155., 145., 146.],\n",
              "        [142., 132., 133.]],\n",
              "\n",
              "       [[178., 172., 172.],\n",
              "        [170., 164., 164.],\n",
              "        [168., 162., 162.],\n",
              "        ...,\n",
              "        [119., 109., 110.],\n",
              "        [129., 119., 120.],\n",
              "        [146., 136., 137.]],\n",
              "\n",
              "       ...,\n",
              "\n",
              "       [[167., 157., 158.],\n",
              "        [164., 154., 155.],\n",
              "        [166., 156., 157.],\n",
              "        ...,\n",
              "        [112., 100., 100.],\n",
              "        [132., 120., 120.],\n",
              "        [107.,  95.,  95.]],\n",
              "\n",
              "       [[164., 154., 155.],\n",
              "        [159., 149., 150.],\n",
              "        [161., 151., 152.],\n",
              "        ...,\n",
              "        [118., 106., 106.],\n",
              "        [126., 114., 114.],\n",
              "        [113., 101., 101.]],\n",
              "\n",
              "       [[166., 156., 157.],\n",
              "        [162., 152., 153.],\n",
              "        [168., 158., 159.],\n",
              "        ...,\n",
              "        [127., 115., 115.],\n",
              "        [119., 107., 107.],\n",
              "        [121., 109., 109.]]], dtype=float32)"
            ]
          },
          "metadata": {},
          "execution_count": 17
        }
      ]
    },
    {
      "cell_type": "code",
      "source": [
        "\n",
        "x.shape"
      ],
      "metadata": {
        "colab": {
          "base_uri": "https://localhost:8080/"
        },
        "id": "FBXKUn2A9365",
        "outputId": "2170f291-5483-4057-b189-0a6b2ac67b70"
      },
      "execution_count": null,
      "outputs": [
        {
          "output_type": "execute_result",
          "data": {
            "text/plain": [
              "(224, 224, 3)"
            ]
          },
          "metadata": {},
          "execution_count": 18
        }
      ]
    },
    {
      "cell_type": "code",
      "source": [
        "\n",
        "x=x/255"
      ],
      "metadata": {
        "id": "ZN2cwuRI95lR"
      },
      "execution_count": null,
      "outputs": []
    },
    {
      "cell_type": "code",
      "source": [
        "import numpy as np\n",
        "x=np.expand_dims(x,axis=0)\n",
        "img_data=preprocess_input(x)\n",
        "img_data.shape\n"
      ],
      "metadata": {
        "colab": {
          "base_uri": "https://localhost:8080/"
        },
        "id": "mDlh6L9F97-o",
        "outputId": "35b50767-3d32-4c39-abc8-3d94e0fff019"
      },
      "execution_count": null,
      "outputs": [
        {
          "output_type": "execute_result",
          "data": {
            "text/plain": [
              "(1, 224, 224, 3)"
            ]
          },
          "metadata": {},
          "execution_count": 20
        }
      ]
    },
    {
      "cell_type": "code",
      "source": [
        "\n",
        "model.predict(img_data)"
      ],
      "metadata": {
        "colab": {
          "base_uri": "https://localhost:8080/"
        },
        "id": "inysbRb59-E7",
        "outputId": "1e1bc602-6c4a-4ed9-fd50-f8780a92eda6"
      },
      "execution_count": null,
      "outputs": [
        {
          "output_type": "stream",
          "name": "stdout",
          "text": [
            "1/1 [==============================] - 3s 3s/step\n"
          ]
        },
        {
          "output_type": "execute_result",
          "data": {
            "text/plain": [
              "array([[1.7446713e-05, 2.2625500e-04, 1.5949670e-03, 1.1872710e-05,\n",
              "        6.2659162e-04, 3.6635834e-07, 2.0182519e-03, 3.2105163e-06,\n",
              "        9.9541241e-01, 8.8618610e-05]], dtype=float32)"
            ]
          },
          "metadata": {},
          "execution_count": 21
        }
      ]
    },
    {
      "cell_type": "code",
      "source": [
        "a=np.argmax(model.predict(img_data), axis=1)"
      ],
      "metadata": {
        "colab": {
          "base_uri": "https://localhost:8080/"
        },
        "id": "Op_XICH3-DPF",
        "outputId": "ada20c2d-ed7e-4554-c218-9bfc302746ba"
      },
      "execution_count": null,
      "outputs": [
        {
          "output_type": "stream",
          "name": "stdout",
          "text": [
            "1/1 [==============================] - 0s 239ms/step\n"
          ]
        }
      ]
    },
    {
      "cell_type": "code",
      "source": [
        "\n",
        "import tensorflow as tf"
      ],
      "metadata": {
        "id": "mpHRDXV3-Hxw"
      },
      "execution_count": null,
      "outputs": []
    },
    {
      "cell_type": "code",
      "source": [
        "\n",
        "tf.__version__"
      ],
      "metadata": {
        "colab": {
          "base_uri": "https://localhost:8080/",
          "height": 36
        },
        "id": "a4tYX4jM-Qvu",
        "outputId": "81ab84dc-2ab6-42ea-fca8-d4630dbf6009"
      },
      "execution_count": null,
      "outputs": [
        {
          "output_type": "execute_result",
          "data": {
            "text/plain": [
              "'2.15.0'"
            ],
            "application/vnd.google.colaboratory.intrinsic+json": {
              "type": "string"
            }
          },
          "metadata": {},
          "execution_count": 25
        }
      ]
    },
    {
      "cell_type": "code",
      "source": [
        "\n",
        "# save it as a h5 file\n",
        "\n",
        "\n",
        "from tensorflow.keras.models import load_model\n",
        "\n",
        "model.save('model_resnet50.h5')"
      ],
      "metadata": {
        "colab": {
          "base_uri": "https://localhost:8080/"
        },
        "id": "n3gl5XK7-XFv",
        "outputId": "a8eb328b-f0f4-400d-f3e2-27bf0ecb4e3e"
      },
      "execution_count": null,
      "outputs": [
        {
          "output_type": "stream",
          "name": "stderr",
          "text": [
            "/usr/local/lib/python3.10/dist-packages/keras/src/engine/training.py:3103: UserWarning: You are saving your model as an HDF5 file via `model.save()`. This file format is considered legacy. We recommend using instead the native Keras format, e.g. `model.save('my_model.keras')`.\n",
            "  saving_api.save_model(\n"
          ]
        }
      ]
    },
    {
      "cell_type": "code",
      "source": [
        "\n",
        "y_pred = model.predict(test_set)"
      ],
      "metadata": {
        "colab": {
          "base_uri": "https://localhost:8080/"
        },
        "id": "sdwjcMok-Zwk",
        "outputId": "8d145c09-01fa-403c-e5c1-c402d54b4c32"
      },
      "execution_count": null,
      "outputs": [
        {
          "output_type": "stream",
          "name": "stdout",
          "text": [
            "2/2 [==============================] - 14s 6s/step\n"
          ]
        }
      ]
    },
    {
      "cell_type": "code",
      "source": [
        "\n",
        "y_pred"
      ],
      "metadata": {
        "colab": {
          "base_uri": "https://localhost:8080/"
        },
        "id": "kg4RDLsF-fBC",
        "outputId": "11b1ec82-c056-4edf-9956-65770e92dac0"
      },
      "execution_count": null,
      "outputs": [
        {
          "output_type": "execute_result",
          "data": {
            "text/plain": [
              "array([[1.86251387e-01, 1.14549227e-01, 2.18059969e-04, 6.86535835e-02,\n",
              "        1.07048647e-02, 5.45968898e-02, 7.63724139e-03, 2.05588385e-01,\n",
              "        3.09661597e-01, 4.21388224e-02],\n",
              "       [1.88746455e-03, 8.63638893e-02, 8.61150492e-03, 3.08201090e-02,\n",
              "        4.50350612e-01, 4.71360385e-02, 1.20856203e-01, 2.00260267e-01,\n",
              "        5.36826812e-02, 3.13356068e-05],\n",
              "       [2.10108760e-06, 1.33928377e-03, 8.87850393e-03, 1.95850385e-03,\n",
              "        1.03226081e-02, 7.84055889e-03, 9.65338349e-01, 2.84955197e-04,\n",
              "        4.03496157e-03, 1.41680587e-07],\n",
              "       [1.44271597e-01, 1.39045399e-02, 9.76780429e-05, 2.05029100e-02,\n",
              "        8.13227613e-04, 6.68373005e-03, 3.72912968e-04, 3.94953927e-03,\n",
              "        1.83270555e-02, 7.91076779e-01],\n",
              "       [4.32827474e-05, 5.60495490e-03, 5.38524648e-04, 1.01489190e-03,\n",
              "        9.22637403e-01, 9.42951534e-04, 6.23712540e-02, 1.77893217e-03,\n",
              "        5.06347185e-03, 4.19986964e-06],\n",
              "       [4.09902282e-15, 9.03821046e-11, 9.99962986e-01, 4.56082290e-11,\n",
              "        5.02997253e-08, 6.79406054e-12, 3.64377338e-05, 4.94685579e-15,\n",
              "        4.55653264e-07, 4.07591063e-17],\n",
              "       [1.13842261e-14, 1.91089367e-10, 2.48039601e-06, 1.38944523e-10,\n",
              "        4.24108606e-07, 1.47046625e-10, 9.99996841e-01, 1.21222436e-13,\n",
              "        1.70096158e-07, 1.25281723e-17],\n",
              "       [1.30119631e-02, 2.43104063e-02, 4.07525280e-04, 3.86377946e-02,\n",
              "        6.34555053e-03, 5.69409020e-02, 1.13069247e-02, 7.82903880e-02,\n",
              "        7.67782032e-01, 2.96659302e-03],\n",
              "       [5.22873938e-01, 4.02071998e-02, 3.41866471e-05, 2.32416671e-02,\n",
              "        2.25110888e-03, 1.21845700e-01, 2.86264229e-03, 2.13814955e-02,\n",
              "        1.42258734e-01, 1.23043306e-01],\n",
              "       [5.51877201e-05, 2.47465866e-03, 8.41098651e-03, 6.77772611e-03,\n",
              "        1.15582936e-01, 6.96333408e-01, 1.61843464e-01, 2.24098936e-03,\n",
              "        6.27927948e-03, 1.39591180e-06],\n",
              "       [6.14311337e-01, 8.72968733e-02, 7.18910524e-05, 3.72543037e-02,\n",
              "        8.72148294e-03, 2.49936394e-02, 9.00603738e-03, 9.40882787e-02,\n",
              "        9.48667452e-02, 2.93894820e-02],\n",
              "       [6.65037483e-02, 1.74268577e-02, 2.04923144e-05, 4.04321924e-02,\n",
              "        2.61868583e-03, 5.58244996e-03, 2.40600712e-04, 8.58779345e-03,\n",
              "        3.75153236e-02, 8.21071923e-01],\n",
              "       [1.33809015e-01, 1.54769614e-01, 7.11928878e-04, 1.73998535e-01,\n",
              "        3.99820693e-02, 7.72762820e-02, 4.73953923e-03, 2.55407125e-01,\n",
              "        1.46122217e-01, 1.31836114e-02],\n",
              "       [1.09737948e-10, 3.10932660e-06, 3.82110849e-03, 2.35851985e-06,\n",
              "        1.36034374e-04, 8.86672751e-07, 9.96029437e-01, 3.99892608e-09,\n",
              "        6.83449707e-06, 2.09133356e-13],\n",
              "       [2.02601252e-04, 2.54890993e-02, 5.68985231e-02, 1.72502492e-02,\n",
              "        4.06465977e-02, 4.39064920e-01, 4.03768331e-01, 2.71259388e-03,\n",
              "        1.39647024e-02, 2.26699308e-06],\n",
              "       [3.42380197e-04, 3.81180532e-02, 1.00624086e-02, 8.41678739e-01,\n",
              "        6.42335862e-02, 7.96884578e-03, 1.34799648e-02, 7.60051142e-03,\n",
              "        1.64092295e-02, 1.06257008e-04],\n",
              "       [1.11120229e-07, 1.20663310e-04, 9.99477804e-01, 3.20374238e-05,\n",
              "        1.89710961e-04, 2.87906801e-06, 1.75400419e-04, 9.54721031e-07,\n",
              "        3.44035072e-07, 3.04301057e-10],\n",
              "       [5.86791456e-01, 4.21440750e-02, 3.16750738e-05, 5.01460768e-02,\n",
              "        1.36054598e-03, 1.68179907e-02, 4.41499316e-04, 3.48565280e-02,\n",
              "        8.85238498e-02, 1.78886369e-01],\n",
              "       [3.11298971e-03, 1.75287295e-02, 2.01713832e-04, 5.37830964e-03,\n",
              "        1.00163519e-02, 1.73652209e-02, 1.59797892e-02, 6.31502923e-03,\n",
              "        9.21709597e-01, 2.39211810e-03],\n",
              "       [7.62121528e-02, 8.50113571e-01, 1.23529055e-03, 1.32741416e-02,\n",
              "        1.59412269e-02, 6.27879007e-03, 2.14391761e-02, 3.95291438e-03,\n",
              "        1.04224710e-02, 1.13015051e-03],\n",
              "       [1.75241512e-04, 1.45624196e-02, 2.99826753e-03, 1.52380299e-02,\n",
              "        9.00223494e-01, 1.70833040e-02, 4.43001166e-02, 2.03125388e-03,\n",
              "        3.37890768e-03, 8.88026898e-06],\n",
              "       [2.94930971e-04, 8.42016637e-02, 5.41537395e-03, 1.92992983e-03,\n",
              "        4.21613842e-01, 3.25647881e-03, 4.41542119e-01, 2.53621209e-03,\n",
              "        3.91933508e-02, 1.60642303e-05],\n",
              "       [2.31440121e-04, 4.30774480e-01, 7.98648149e-02, 1.91358291e-02,\n",
              "        4.33389619e-02, 1.28939040e-02, 3.70518804e-01, 1.34782027e-03,\n",
              "        4.18884717e-02, 5.32661079e-06],\n",
              "       [1.52725890e-01, 1.60134211e-02, 1.46106122e-05, 2.27720588e-02,\n",
              "        8.59120861e-04, 2.21647955e-02, 5.58644650e-04, 1.61906835e-02,\n",
              "        1.32529691e-01, 6.36171043e-01],\n",
              "       [9.91215184e-02, 1.38387904e-02, 1.50521710e-05, 1.90649927e-02,\n",
              "        7.11958797e-04, 1.89070329e-02, 5.12870960e-04, 1.23402551e-02,\n",
              "        1.15948141e-01, 7.19539285e-01],\n",
              "       [5.57538413e-04, 7.06597567e-02, 1.05812490e-01, 6.27434790e-01,\n",
              "        5.59913330e-02, 2.47042403e-02, 7.94325545e-02, 3.40429507e-03,\n",
              "        3.19686867e-02, 3.44029213e-05],\n",
              "       [8.13486278e-01, 3.62527780e-02, 1.95373195e-05, 8.88308696e-03,\n",
              "        3.26168747e-03, 5.88190369e-02, 9.78208054e-03, 1.35621643e-02,\n",
              "        4.37149331e-02, 1.22184213e-02],\n",
              "       [2.01900136e-02, 3.35343406e-02, 2.70649936e-04, 2.82196589e-02,\n",
              "        2.73168110e-03, 3.20386291e-02, 4.15656436e-03, 5.77231236e-02,\n",
              "        8.17099214e-01, 4.03612945e-03],\n",
              "       [3.18700075e-02, 1.78384200e-01, 2.04759883e-03, 1.81336641e-01,\n",
              "        4.04532813e-02, 3.86836007e-02, 2.70552561e-02, 3.33754092e-01,\n",
              "        1.64707080e-01, 1.70838891e-03],\n",
              "       [6.36597397e-05, 4.35768440e-03, 6.47803722e-03, 1.47945033e-02,\n",
              "        1.65664107e-01, 7.04840004e-01, 9.65973884e-02, 2.12999899e-03,\n",
              "        5.07038739e-03, 4.10225357e-06],\n",
              "       [3.71066421e-01, 7.65972584e-02, 1.02551290e-04, 1.54071331e-01,\n",
              "        6.77650422e-03, 3.80863361e-02, 2.45411298e-03, 1.15079239e-01,\n",
              "        1.59937412e-01, 7.58287907e-02],\n",
              "       [1.81584383e-05, 1.69566274e-03, 2.56775034e-04, 2.11113467e-04,\n",
              "        9.84048605e-01, 3.45748762e-04, 1.24732880e-02, 3.39077378e-04,\n",
              "        6.10807154e-04, 7.63348339e-07],\n",
              "       [7.21842572e-02, 1.87904477e-01, 1.60301407e-03, 4.53144640e-01,\n",
              "        3.99480984e-02, 2.43288931e-02, 2.76541151e-03, 1.45167679e-01,\n",
              "        5.82901947e-02, 1.46633731e-02],\n",
              "       [1.04394501e-04, 1.72660295e-02, 1.46908490e-02, 7.33547728e-04,\n",
              "        3.54372598e-02, 1.52561348e-02, 9.12005126e-01, 3.99228069e-04,\n",
              "        4.10360051e-03, 3.73762668e-06],\n",
              "       [4.07435978e-03, 7.43494928e-01, 6.68054773e-03, 1.77366417e-02,\n",
              "        1.29162967e-01, 2.84144562e-03, 6.89927638e-02, 2.25774888e-02,\n",
              "        4.40894719e-03, 2.98867999e-05],\n",
              "       [2.08452195e-01, 9.73407775e-02, 2.16793822e-04, 1.54848114e-01,\n",
              "        6.75489148e-03, 1.00360764e-02, 1.70793582e-03, 4.88068581e-01,\n",
              "        2.20347196e-02, 1.05397925e-02],\n",
              "       [3.44990283e-01, 8.34529400e-02, 1.02250182e-04, 5.95466755e-02,\n",
              "        6.47759577e-03, 6.25210777e-02, 4.07642126e-03, 1.09903954e-01,\n",
              "        2.65458614e-01, 6.34702817e-02],\n",
              "       [7.32809538e-04, 1.55744534e-02, 5.00870636e-04, 4.37944633e-04,\n",
              "        4.20524664e-02, 2.60717329e-03, 9.36606288e-01, 4.39072086e-04,\n",
              "        1.04780297e-03, 1.01822991e-06],\n",
              "       [6.67934045e-02, 7.13775121e-03, 5.65492428e-06, 1.71435643e-02,\n",
              "        3.61333688e-04, 6.61303941e-03, 1.24686281e-04, 6.70607109e-03,\n",
              "        7.63937384e-02, 8.18720818e-01],\n",
              "       [5.17541051e-01, 3.41438353e-02, 2.28445952e-05, 5.34676574e-02,\n",
              "        9.36714583e-04, 2.29120720e-02, 4.98877431e-04, 4.16559093e-02,\n",
              "        1.01761766e-01, 2.27059156e-01],\n",
              "       [1.36187242e-10, 4.92791651e-06, 9.85718787e-01, 9.05817785e-07,\n",
              "        1.57053137e-06, 2.22569057e-07, 1.42734619e-02, 4.16243440e-09,\n",
              "        6.54397425e-08, 1.80426434e-13],\n",
              "       [7.69554019e-01, 9.83868688e-02, 6.40643339e-05, 3.81007530e-02,\n",
              "        3.94531031e-04, 4.88337222e-03, 2.16421991e-04, 1.69011597e-02,\n",
              "        1.72499437e-02, 5.42489029e-02],\n",
              "       [3.63340750e-02, 4.70289327e-02, 1.26108178e-04, 3.11044808e-02,\n",
              "        5.28106373e-03, 3.36038098e-02, 3.30377626e-03, 1.50665976e-02,\n",
              "        7.77782619e-01, 5.03684767e-02],\n",
              "       [6.39630675e-01, 7.70135149e-02, 5.13338928e-05, 3.80543135e-02,\n",
              "        3.56753916e-03, 3.62904593e-02, 2.96089309e-03, 6.01200946e-02,\n",
              "        1.06888011e-01, 3.54231596e-02],\n",
              "       [4.15960670e-01, 9.93673131e-02, 6.53666284e-05, 5.78051060e-02,\n",
              "        2.73175957e-03, 5.18295057e-02, 1.80271640e-03, 5.25095686e-02,\n",
              "        2.39081040e-01, 7.88469464e-02],\n",
              "       [4.82137203e-01, 5.85669056e-02, 4.88072183e-05, 3.51629741e-02,\n",
              "        3.26834945e-03, 1.23827919e-01, 5.78522403e-03, 2.97680683e-02,\n",
              "        1.57666549e-01, 1.03768028e-01],\n",
              "       [1.70674354e-01, 6.35329485e-01, 2.00473052e-03, 5.58533855e-02,\n",
              "        3.04164048e-02, 1.18708014e-02, 7.97279552e-03, 6.71140552e-02,\n",
              "        1.76226199e-02, 1.14144222e-03],\n",
              "       [1.36759255e-07, 8.29818367e-04, 9.46403980e-01, 5.27764263e-04,\n",
              "        1.77790795e-03, 4.07564745e-04, 4.94684726e-02, 5.80580854e-06,\n",
              "        5.78486535e-04, 3.81926846e-09],\n",
              "       [1.32935078e-04, 9.67517309e-03, 2.48193601e-03, 2.03391742e-02,\n",
              "        9.09300685e-01, 2.76406799e-02, 2.31678020e-02, 2.40505766e-03,\n",
              "        4.84335888e-03, 1.31262659e-05],\n",
              "       [6.21947402e-06, 1.62691996e-02, 9.03838456e-01, 5.48068760e-03,\n",
              "        1.05964895e-02, 2.10543605e-03, 6.02798946e-02, 1.71078616e-04,\n",
              "        1.25236681e-03, 1.70534605e-07],\n",
              "       [3.04763571e-12, 1.22074975e-10, 8.26037024e-07, 7.04620717e-08,\n",
              "        8.43841441e-09, 1.38560136e-10, 1.16043259e-06, 1.20607387e-11,\n",
              "        9.99997973e-01, 1.41189333e-13]], dtype=float32)"
            ]
          },
          "metadata": {},
          "execution_count": 28
        }
      ]
    },
    {
      "cell_type": "code",
      "source": [
        "import numpy as np\n",
        "y_pred = np.argmax(y_pred, axis=1)"
      ],
      "metadata": {
        "id": "CLaPqm1H-iOC"
      },
      "execution_count": null,
      "outputs": []
    },
    {
      "cell_type": "code",
      "source": [
        "\n",
        "y_pred"
      ],
      "metadata": {
        "colab": {
          "base_uri": "https://localhost:8080/"
        },
        "id": "vgmlvp6--kP1",
        "outputId": "f21f19f3-8aba-4edb-fe3a-dad681397bc7"
      },
      "execution_count": null,
      "outputs": [
        {
          "output_type": "execute_result",
          "data": {
            "text/plain": [
              "array([8, 4, 6, 9, 4, 2, 6, 8, 0, 5, 0, 9, 7, 6, 5, 3, 2, 0, 8, 1, 4, 6,\n",
              "       1, 9, 9, 3, 0, 8, 7, 5, 0, 4, 3, 6, 1, 7, 0, 6, 9, 0, 2, 0, 8, 0,\n",
              "       0, 0, 1, 2, 4, 2, 8])"
            ]
          },
          "metadata": {},
          "execution_count": 30
        }
      ]
    },
    {
      "cell_type": "code",
      "source": [
        "from tensorflow.keras.models import load_model\n",
        "from tensorflow.keras.preprocessing import image"
      ],
      "metadata": {
        "id": "3f5SSdaw-m2N"
      },
      "execution_count": null,
      "outputs": []
    },
    {
      "cell_type": "code",
      "source": [
        "\n",
        "model=load_model('model_resnet50.h5')"
      ],
      "metadata": {
        "id": "vtrgnqh9-oS2"
      },
      "execution_count": null,
      "outputs": []
    },
    {
      "cell_type": "code",
      "source": [
        "\n",
        "img_data"
      ],
      "metadata": {
        "colab": {
          "base_uri": "https://localhost:8080/"
        },
        "id": "pAHVORJr-qhu",
        "outputId": "e7069e30-1f91-4fec-8d66-d24412e10b45"
      },
      "execution_count": null,
      "outputs": [
        {
          "output_type": "execute_result",
          "data": {
            "text/plain": [
              "array([[[[-103.288025, -116.12802 , -123.00549 ],\n",
              "         [-103.29587 , -116.135864, -123.013336],\n",
              "         [-103.28018 , -116.12018 , -122.99765 ],\n",
              "         ...,\n",
              "         [-103.523315, -116.36723 , -123.22902 ],\n",
              "         [-103.48018 , -116.3241  , -123.18588 ],\n",
              "         [-103.43704 , -116.28096 , -123.142746]],\n",
              "\n",
              "        [[-103.2841  , -116.1241  , -123.00157 ],\n",
              "         [-103.30371 , -116.14371 , -123.02118 ],\n",
              "         [-103.29979 , -116.139786, -123.01726 ],\n",
              "         ...,\n",
              "         [-103.417435, -116.26135 , -123.12314 ],\n",
              "         [-103.366455, -116.21037 , -123.07216 ],\n",
              "         [-103.417435, -116.26135 , -123.12314 ]],\n",
              "\n",
              "        [[-103.264496, -116.10449 , -122.981964],\n",
              "         [-103.29587 , -116.135864, -123.013336],\n",
              "         [-103.30371 , -116.14371 , -123.02118 ],\n",
              "         ...,\n",
              "         [-103.50763 , -116.35155 , -123.21333 ],\n",
              "         [-103.468414, -116.31233 , -123.17412 ],\n",
              "         [-103.40175 , -116.24567 , -123.10745 ]],\n",
              "\n",
              "        ...,\n",
              "\n",
              "        [[-103.3194  , -116.163315, -123.0251  ],\n",
              "         [-103.33116 , -116.17508 , -123.036865],\n",
              "         [-103.32332 , -116.16724 , -123.02902 ],\n",
              "         ...,\n",
              "         [-103.546844, -116.38684 , -123.24078 ],\n",
              "         [-103.468414, -116.30841 , -123.16235 ],\n",
              "         [-103.56645 , -116.40645 , -123.26039 ]],\n",
              "\n",
              "        [[-103.33116 , -116.17508 , -123.036865],\n",
              "         [-103.35077 , -116.19469 , -123.05647 ],\n",
              "         [-103.342926, -116.186844, -123.04863 ],\n",
              "         ...,\n",
              "         [-103.523315, -116.36331 , -123.217255],\n",
              "         [-103.49194 , -116.33194 , -123.18588 ],\n",
              "         [-103.54292 , -116.38292 , -123.23686 ]],\n",
              "\n",
              "        [[-103.32332 , -116.16724 , -123.02902 ],\n",
              "         [-103.339005, -116.18292 , -123.04471 ],\n",
              "         [-103.315475, -116.15939 , -123.02118 ],\n",
              "         ...,\n",
              "         [-103.48802 , -116.32802 , -123.18196 ],\n",
              "         [-103.519394, -116.35939 , -123.21333 ],\n",
              "         [-103.51155 , -116.35155 , -123.20549 ]]]], dtype=float32)"
            ]
          },
          "metadata": {},
          "execution_count": 33
        }
      ]
    },
    {
      "cell_type": "code",
      "source": [
        "import numpy as np\n",
        "import matplotlib.pyplot as plt\n",
        "import pandas as pd\n",
        "import seaborn as sns# plot the loss\n",
        "plt.plot(r.history['loss'], label='train loss')\n",
        "plt.plot(r.history['val_loss'], label='val loss')\n",
        "plt.legend()\n",
        "plt.show()\n",
        "plt.savefig('LossVal_loss')\n",
        "\n",
        "# plot the accuracy\n",
        "plt.plot(r.history['accuracy'], label='train acc')\n",
        "plt.plot(r.history['val_accuracy'], label='val acc')\n",
        "plt.legend()\n",
        "plt.show()\n",
        "plt.savefig('AccVal_acc')"
      ],
      "metadata": {
        "colab": {
          "base_uri": "https://localhost:8080/",
          "height": 864
        },
        "id": "z31PhFeH-vVY",
        "outputId": "8e85559a-40e4-4dcf-efe0-2ea4ae504a66"
      },
      "execution_count": null,
      "outputs": [
        {
          "output_type": "display_data",
          "data": {
            "text/plain": [
              "<Figure size 640x480 with 1 Axes>"
            ],
            "image/png": "[encoded data removed]"
          },
          "metadata": {}
        },
        {
          "output_type": "display_data",
          "data": {
            "text/plain": [
              "<Figure size 640x480 with 1 Axes>"
            ],
            "image/png": "[encoded data removed]"
          },
          "metadata": {}
        },
        {
          "output_type": "display_data",
          "data": {
            "text/plain": [
              "<Figure size 640x480 with 0 Axes>"
            ]
          },
          "metadata": {}
        }
      ]
    },
    {
      "cell_type": "code",
      "source": [
        "import os\n",
        "import re\n",
        "import warnings\n",
        "import numpy as np\n",
        "import pandas as pd\n",
        "import matplotlib.pyplot as plt\n",
        "import seaborn as sns\n",
        "from sklearn import svm, preprocessing, model_selection, metrics, base\n",
        "import tensorflow as tf\n",
        "import cv2"
      ],
      "metadata": {
        "id": "xhObDmcA_ClY"
      },
      "execution_count": null,
      "outputs": []
    },
    {
      "cell_type": "code",
      "source": [
        "path = r\"/content/drive/MyDrive/tomato/train\"\n",
        "\n",
        "images, labels = [], []\n",
        "\n",
        "for file in sorted(os.listdir(path)):\n",
        "    if file.endswith(\".jpg\") or file.endswith(\"jpeg\"):\n",
        "        img = cv2.cvtColor(cv2.resize(cv2.imread(os.path.join(path, file)), (128, 128)), cv2.COLOR_BGR2RGB)\n",
        "        images.append(img)\n",
        "        if \"Early_blight\" in file:\n",
        "            file = file.replace(\"Early_blight\", \"Early_blight\")\n",
        "        elif \"Leaf_Mold\" in file:\n",
        "            file = file.replace(\"Leaf_Mold\", \"Leaf_Mold\")\n",
        "        elif \"Target_spot\" in file:\n",
        "            file = file.replace(\"Target_spot\", \"Target_spot\")\n",
        "        labels.append(re.findall(\"[a-zA-Z]+\", file)[0])\n",
        "\n",
        "path = r\"/content/drive/MyDrive/tomato/valid\"\n",
        "\n",
        "for file in sorted(os.listdir(path)):\n",
        "    if file.endswith(\".jpg\") or file.endswith(\".jpeg\"):\n",
        "        img = cv2.cvtColor(cv2.resize(cv2.imread(os.path.join(path, file)), (128, 128)), cv2.COLOR_BGR2RGB)\n",
        "        images.append(img)\n",
        "        labels.append(re.findall(\"[a-zA-Z]+\", file)[0])\n",
        "\n",
        "images = np.array(images)\n",
        "labels = np.array(labels)"
      ],
      "metadata": {
        "id": "4CY5JyO9_OvR"
      },
      "execution_count": null,
      "outputs": []
    },
    {
      "cell_type": "code",
      "source": [
        "print(images.shape, labels.shape)"
      ],
      "metadata": {
        "colab": {
          "base_uri": "https://localhost:8080/"
        },
        "id": "FxG5fFPE_sJn",
        "outputId": "92b47f50-dcc8-4e45-82e0-a12b1e15115a"
      },
      "execution_count": null,
      "outputs": [
        {
          "output_type": "stream",
          "name": "stdout",
          "text": [
            "(0,) (0,)\n"
          ]
        }
      ]
    },
    {
      "cell_type": "code",
      "source": [
        "class_names = np.unique(labels)\n",
        "\n",
        "class_map = {i : class_name for i, class_name in enumerate(class_names)}\n",
        "reverse_class_map = {val : key for key, val in class_map.items()}\n",
        "\n",
        "print(class_map)"
      ],
      "metadata": {
        "colab": {
          "base_uri": "https://localhost:8080/"
        },
        "id": "KqlyLbTu_wcF",
        "outputId": "7b878fce-eadf-478d-a6da-97462566334b"
      },
      "execution_count": null,
      "outputs": [
        {
          "output_type": "stream",
          "name": "stdout",
          "text": [
            "{}\n"
          ]
        }
      ]
    },
    {
      "cell_type": "code",
      "source": [
        "X = images.copy()\n",
        "y = np.array([reverse_class_map[label] for label in labels.copy()])"
      ],
      "metadata": {
        "id": "MgVMbPyT_2XQ"
      },
      "execution_count": null,
      "outputs": []
    },
    {
      "cell_type": "code",
      "source": [
        "def visualize():\n",
        "    plt.figure(figsize = (12, 12))\n",
        "    for i in range(9):\n",
        "        img, label = X[i], y[i]\n",
        "        plt.subplot(3, 3, i + 1)\n",
        "        plt.title(class_map[label])\n",
        "        plt.imshow(img)\n",
        "        plt.axis(\"off\")\n",
        "    plt.tight_layout()\n",
        "    plt.show()"
      ],
      "metadata": {
        "id": "CLOnsLOZ_30H"
      },
      "execution_count": null,
      "outputs": []
    },
    {
      "cell_type": "code",
      "source": [
        "data_augmentation = tf.keras.Sequential([\n",
        "    tf.keras.layers.RandomFlip(\"horizontal_and_vertical\"),\n",
        "    tf.keras.layers.RandomTranslation(0.1, 0.1)\n",
        "])"
      ],
      "metadata": {
        "id": "S4SkTBKbAspf"
      },
      "execution_count": null,
      "outputs": []
    },
    {
      "cell_type": "code",
      "source": [
        "max_total = 500\n",
        "X_new, y_new = [], []\n",
        "X_cls_array = [X[y == i] for i in class_map.keys()]\n",
        "\n",
        "for label, X_set in zip(class_map.keys(), X_cls_array):\n",
        "    count = 0\n",
        "    while count < max_total - label_counts[label]:\n",
        "        for img in X_set:\n",
        "            augmented_img = data_augmentation(np.expand_dims(img, axis = 0))\n",
        "            X_new.append(augmented_img[0])\n",
        "            y_new.append(label)\n",
        "            count += 1\n",
        "            if count >= max_total - label_counts[label]:\n",
        "                break\n",
        "\n",
        "X_new, y_new = np.array(X_new), np.array(y_new)\n",
        "print(X_new.shape, y_new.shape)"
      ],
      "metadata": {
        "colab": {
          "base_uri": "https://localhost:8080/"
        },
        "id": "0dn7FZ7tAyHi",
        "outputId": "59bcf475-e11f-4cbf-91fe-633742d873cd"
      },
      "execution_count": null,
      "outputs": [
        {
          "output_type": "stream",
          "name": "stdout",
          "text": [
            "(0,) (0,)\n"
          ]
        }
      ]
    },
    {
      "cell_type": "code",
      "source": [
        "X = np.concatenate([X, X_new])\n",
        "y = np.concatenate([y, y_new])\n",
        "\n",
        "print(X.shape, y.shape)\n",
        "\n",
        "print(pd.Series(y).value_counts())"
      ],
      "metadata": {
        "colab": {
          "base_uri": "https://localhost:8080/"
        },
        "id": "v0ZPtwYEA2Hn",
        "outputId": "aeba9297-4f87-4c44-d7a2-b218c724dae1"
      },
      "execution_count": null,
      "outputs": [
        {
          "output_type": "stream",
          "name": "stdout",
          "text": [
            "(0,) (0,)\n",
            "Series([], Name: count, dtype: int64)\n"
          ]
        }
      ]
    }
  ]
}