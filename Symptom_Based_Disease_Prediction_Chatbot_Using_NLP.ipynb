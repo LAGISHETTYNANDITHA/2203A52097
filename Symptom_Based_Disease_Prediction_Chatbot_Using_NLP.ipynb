{
  "nbformat": 4,
  "nbformat_minor": 0,
  "metadata": {
    "colab": {
      "provenance": [],
      "gpuType": "T4",
      "authorship_tag": "ABX9TyNIT4x3NYnC1HukZutbZN+E",
      "include_colab_link": true
    },
    "kernelspec": {
      "name": "python3",
      "display_name": "Python 3"
    },
    "language_info": {
      "name": "python"
    },
    "accelerator": "GPU"
  },
  "cells": [
    {
      "cell_type": "markdown",
      "metadata": {
        "id": "view-in-github",
        "colab_type": "text"
      },
      "source": [
        "<a href=\"https://colab.research.google.com/github/LAGISHETTYNANDITHA/2203A52097/blob/main/Symptom_Based_Disease_Prediction_Chatbot_Using_NLP.ipynb\" target=\"_parent\"><img src=\"https://colab.research.google.com/assets/colab-badge.svg\" alt=\"Open In Colab\"/></a>"
      ]
    },
    {
      "cell_type": "code",
      "execution_count": null,
      "metadata": {
        "colab": {
          "base_uri": "https://localhost:8080/"
        },
        "id": "oS8AGARa4vDC",
        "outputId": "3bf476d7-149f-4c38-86c5-9fe8148bc458"
      },
      "outputs": [
        {
          "output_type": "stream",
          "name": "stderr",
          "text": [
            "<ipython-input-3-8ddc52789a15>:21: UserWarning: `input_shape` is undefined or non-square, or `rows` is not in [96, 128, 160, 192, 224]. Weights for input shape (224, 224) will be loaded as the default.\n",
            "  base_model = MobileNetV2(weights=\"imagenet\", include_top=False)\n"
          ]
        },
        {
          "output_type": "stream",
          "name": "stdout",
          "text": [
            "\u001b[1m1/1\u001b[0m \u001b[32m━━━━━━━━━━━━━━━━━━━━\u001b[0m\u001b[37m\u001b[0m \u001b[1m3s\u001b[0m 3s/step\n",
            "Based on the description, it seems like your crop might have X Disease. Consider appropriate treatment.\n"
          ]
        }
      ],
      "source": [
        "# Install necessary libraries (if not already installed)\n",
        "# pip install tensorflow numpy spacy\n",
        "\n",
        "import spacy\n",
        "import numpy as np\n",
        "import tensorflow as tf\n",
        "from tensorflow.keras.applications import MobileNetV2\n",
        "from tensorflow.keras.layers import Dense, GlobalAveragePooling2D\n",
        "from tensorflow.keras.models import Model\n",
        "\n",
        "# Load pre-trained NLP model (spaCy)\n",
        "nlp = spacy.load(\"en_core_web_sm\")\n",
        "\n",
        "# Example symptoms (you can expand this list)\n",
        "symptoms = [\"yellow leaves\", \"wilting\", \"spots on leaves\", \"stunted growth\"]\n",
        "\n",
        "# Example image classification labels (crop diseases)\n",
        "labels = [\"Healthy\", \"X Disease\", \"Y Disease\", \"Z Disease\"]\n",
        "\n",
        "# Create a simple image classification model\n",
        "base_model = MobileNetV2(weights=\"imagenet\", include_top=False)\n",
        "x = base_model.output\n",
        "x = GlobalAveragePooling2D()(x)\n",
        "predictions = Dense(len(labels), activation=\"softmax\")(x)\n",
        "model = Model(inputs=base_model.input, outputs=predictions)\n",
        "\n",
        "# Compile and train the model (using synthetic data)\n",
        "\n",
        "# Chatbot logic:\n",
        "def chatbot_response(description, image_path):\n",
        "    doc = nlp(description.lower())\n",
        "    extracted_symptoms = [token.text for token in doc if token.text in symptoms]\n",
        "\n",
        "    # Load the image and preprocess it\n",
        "    image = tf.keras.preprocessing.image.load_img(image_path, target_size=(224, 224))\n",
        "    image_array = tf.keras.preprocessing.image.img_to_array(image)\n",
        "    image_array = np.expand_dims(image_array, axis=0)\n",
        "    image_array /= 255.0\n",
        "\n",
        "    # Predict disease based on image\n",
        "    prediction = model.predict(image_array)\n",
        "    predicted_label = labels[np.argmax(prediction)]\n",
        "\n",
        "    return f\"Based on the description, it seems like your crop might have {predicted_label}. Consider appropriate treatment.\"\n",
        "\n",
        "# Example usage:\n",
        "user_description = \"My tomato plants have  wilting.\"\n",
        "user_image_path = \"/content/wilt.jfif\"\n",
        "response = chatbot_response(user_description, user_image_path)\n",
        "print(response)\n"
      ]
    }
  ]
}