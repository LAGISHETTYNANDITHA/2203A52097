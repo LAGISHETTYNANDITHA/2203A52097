{
  "nbformat": 4,
  "nbformat_minor": 0,
  "metadata": {
    "colab": {
      "provenance": [],
      "authorship_tag": "ABX9TyPJwkdJQv/jxa5sFk6l3YCL",
      "include_colab_link": true
    },
    "kernelspec": {
      "name": "python3",
      "display_name": "Python 3"
    },
    "language_info": {
      "name": "python"
    }
  },
  "cells": [
    {
      "cell_type": "markdown",
      "metadata": {
        "id": "view-in-github",
        "colab_type": "text"
      },
      "source": [
        "<a href=\"https://colab.research.google.com/github/LAGISHETTYNANDITHA/2203A52097/blob/main/significance.ipynb\" target=\"_parent\"><img src=\"https://colab.research.google.com/assets/colab-badge.svg\" alt=\"Open In Colab\"/></a>"
      ]
    },
    {
      "cell_type": "code",
      "execution_count": 1,
      "metadata": {
        "colab": {
          "base_uri": "https://localhost:8080/",
          "height": 142
        },
        "id": "nBOhzXTK0XpT",
        "outputId": "b2ac8484-a62d-4650-aad3-9e57f5eea949"
      },
      "outputs": [
        {
          "output_type": "error",
          "ename": "IndentationError",
          "evalue": "ignored",
          "traceback": [
            "\u001b[0;36m  File \u001b[0;32m\"<ipython-input-1-986c9e257e2d>\"\u001b[0;36m, line \u001b[0;32m32\u001b[0m\n\u001b[0;31m    print('F_value=',F_value)\u001b[0m\n\u001b[0m    ^\u001b[0m\n\u001b[0;31mIndentationError\u001b[0m\u001b[0;31m:\u001b[0m unexpected indent\n"
          ]
        }
      ],
      "source": [
        "'''Three students, Ramesh, Rajesh, and Rakesh, are given five laboratory rats each\n",
        "for a nutritional experiment.Each rat's weight is recorded in grams. Ramesh feeds\n",
        "his rats Formula A, Rajesh feeds his rats Formula B, and Rakesh feeds his rats\n",
        " Formula C. At the end of a\n",
        "specified time period, each rat is weighed again and the net gain in grams is recorded.\n",
        "  Determine whether or not the variance in weight gain is statistically the same\n",
        "   among Rajesh's and Rakesh's rats. Test at a significance\n",
        "    level of 10%.\n",
        "    Ramesh rat      Rajesh's rat        Rakesh's rat\n",
        "        43.5          47.0                51.2\n",
        "        39.4          40.5                40.9\n",
        "        41.3          38.9                37.9\n",
        "        46.0          46.3                 45.0\n",
        "        38.2          44.2                48.6'''\n",
        "from scipy.stats import f\n",
        "group1=np.array([47, 40.5, 38.9, 46.3, 44.2])\n",
        "group2=np.array([51.2, 40.9, 37.9, 45.0, 48.6])\n",
        "def Hypothesis_Test_sigma12(group1,group2,alpha):\n",
        " n1=np.size(group1)\n",
        " n2=np.size(group2)\n",
        " S1_square=np.var(group1,ddof=1)\n",
        " S2_square=np.var(group2,ddof=1)\n",
        "if S1_square>=S2_square:\n",
        " F_value=S1_square/S2_square\n",
        " df1=n1-1\n",
        " df2=n2-1\n",
        "else:\n",
        " F_value=S2_square/S1_square\n",
        " df1=n2-1\n",
        " df2=n1-1\n",
        "critical_value=f.ppf((1-alpha/2),df1,df2)\n",
        " print('F_value=',F_value)\n",
        " print('critical_value',critical_value)\n",
        "if F_value>critical_value:\n",
        " print('''Reject the null hypothesis H_0;\n",
        "there is a significant difference between the medicines\\n''')\n",
        " else:\n",
        " print('''We fail to reject the null hypothesis\n",
        "H_0; there is no significant difference between medicines\\n''')\n",
        "Hypothesis_Test_sigma12(group1, group2, 0.1)"
      ]
    }
  ]
}