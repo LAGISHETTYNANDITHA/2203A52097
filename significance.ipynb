{
  "nbformat": 4,
  "nbformat_minor": 0,
  "metadata": {
    "colab": {
      "provenance": [],
      "authorship_tag": "ABX9TyNqxWpRw2bcj/FxtDu/jXkV",
      "include_colab_link": true
    },
    "kernelspec": {
      "name": "python3",
      "display_name": "Python 3"
    },
    "language_info": {
      "name": "python"
    }
  },
  "cells": [
    {
      "cell_type": "markdown",
      "metadata": {
        "id": "view-in-github",
        "colab_type": "text"
      },
      "source": [
        "<a href=\"https://colab.research.google.com/github/LAGISHETTYNANDITHA/2203A52097/blob/main/significance.ipynb\" target=\"_parent\"><img src=\"https://colab.research.google.com/assets/colab-badge.svg\" alt=\"Open In Colab\"/></a>"
      ]
    },
    {
      "cell_type": "code",
      "execution_count": 8,
      "metadata": {
        "colab": {
          "base_uri": "https://localhost:8080/",
          "height": 246
        },
        "id": "nBOhzXTK0XpT",
        "outputId": "94ac2c3d-98e2-4bc4-faa9-1bd9cfdb6cc6"
      },
      "outputs": [
        {
          "output_type": "error",
          "ename": "NameError",
          "evalue": "ignored",
          "traceback": [
            "\u001b[0;31m---------------------------------------------------------------------------\u001b[0m",
            "\u001b[0;31mNameError\u001b[0m                                 Traceback (most recent call last)",
            "\u001b[0;32m<ipython-input-8-54f401ce4680>\u001b[0m in \u001b[0;36m<cell line: 24>\u001b[0;34m()\u001b[0m\n\u001b[1;32m     22\u001b[0m   \u001b[0mS1_square\u001b[0m\u001b[0;34m=\u001b[0m\u001b[0mnp\u001b[0m\u001b[0;34m.\u001b[0m\u001b[0mvar\u001b[0m\u001b[0;34m(\u001b[0m\u001b[0mgroup1\u001b[0m\u001b[0;34m,\u001b[0m\u001b[0maxis\u001b[0m\u001b[0;34m=\u001b[0m\u001b[0;36m0\u001b[0m\u001b[0;34m)\u001b[0m\u001b[0;34m\u001b[0m\u001b[0;34m\u001b[0m\u001b[0m\n\u001b[1;32m     23\u001b[0m   \u001b[0mS2_square\u001b[0m\u001b[0;34m=\u001b[0m\u001b[0mnp\u001b[0m\u001b[0;34m.\u001b[0m\u001b[0mvar\u001b[0m\u001b[0;34m(\u001b[0m\u001b[0mgroup2\u001b[0m\u001b[0;34m,\u001b[0m\u001b[0maxis\u001b[0m\u001b[0;34m=\u001b[0m\u001b[0;36m0\u001b[0m\u001b[0;34m)\u001b[0m\u001b[0;34m\u001b[0m\u001b[0;34m\u001b[0m\u001b[0m\n\u001b[0;32m---> 24\u001b[0;31m \u001b[0;32mif\u001b[0m \u001b[0mS1_square\u001b[0m\u001b[0;34m>=\u001b[0m\u001b[0mS2_square\u001b[0m\u001b[0;34m:\u001b[0m\u001b[0;34m\u001b[0m\u001b[0;34m\u001b[0m\u001b[0m\n\u001b[0m\u001b[1;32m     25\u001b[0m   \u001b[0mF_value\u001b[0m\u001b[0;34m=\u001b[0m\u001b[0mS1_square\u001b[0m\u001b[0;34m/\u001b[0m\u001b[0mS2_square\u001b[0m\u001b[0;34m\u001b[0m\u001b[0;34m\u001b[0m\u001b[0m\n\u001b[1;32m     26\u001b[0m   \u001b[0mdf1\u001b[0m\u001b[0;34m=\u001b[0m\u001b[0mn1\u001b[0m\u001b[0;34m-\u001b[0m\u001b[0;36m1\u001b[0m\u001b[0;34m\u001b[0m\u001b[0;34m\u001b[0m\u001b[0m\n",
            "\u001b[0;31mNameError\u001b[0m: name 'S1_square' is not defined"
          ]
        }
      ],
      "source": [
        "'''Three students, Ramesh, Rajesh, and Rakesh, are given five laboratory rats each\n",
        "for a nutritional experiment.Each rat's weight is recorded in grams. Ramesh feeds\n",
        "his rats Formula A, Rajesh feeds his rats Formula B, and Rakesh feeds his rats\n",
        " Formula C. At the end of a\n",
        "specified time period, each rat is weighed again and the net gain in grams is recorded.\n",
        "  Determine whether or not the variance in weight gain is statistically the same\n",
        "   among Rajesh's and Rakesh's rats. Test at a significance\n",
        "    level of 10%.\n",
        "    Ramesh rat      Rajesh's rat        Rakesh's rat\n",
        "        43.5          47.0                51.2\n",
        "        39.4          40.5                40.9\n",
        "        41.3          38.9                37.9\n",
        "        46.0          46.3                 45.0\n",
        "        38.2          44.2                48.6'''\n",
        "from scipy.stats import f\n",
        "import numpy as np\n",
        "group1=np.array([47, 40.5, 38.9, 46.3, 44.2])\n",
        "group2=np.array([51.2, 40.9, 37.9, 45.0, 48.6])\n",
        "def Hypothesis_Test_sigma12(group1,group2,alpha):\n",
        "  n1=np.size(group1)\n",
        "  n2=np.size(group2)\n",
        "  S1_square=np.var(group1,axis=0)\n",
        "  S2_square=np.var(group2,axis=0)\n",
        "if S1_square>=S2_square:\n",
        "  F_value=S1_square/S2_square\n",
        "  df1=n1-1\n",
        "df2=n2-1\n",
        "else:\n",
        " F_value=S2_square/S1_square\n",
        " df1=n2-1\n",
        " df2=n1-1\n",
        " critical_value=f.ppf((1-alpha/2),df1,df2)\n",
        " print('F_value=',F_value)\n",
        " print('critical_value',critical_value)\n",
        "if F_value>critical_value:\n",
        " print(\"Reject the null hypothesis H_0 there is a significant difference between the medicines\\n\")\n",
        "else:\n",
        " print(\"We fail to reject the null hypothesis H_0; there is no significant difference between medicines\\n\")\n",
        "Hypothesis_Test_sigma12(group1, group2, 0.1)"
      ]
    },
    {
      "cell_type": "code",
      "source": [
        "'''Laxmi is testing an octahedral die to see if it is biased. The results are given in\n",
        " the table below.\n",
        " Score      1    2    3   4   5     6   7   8\n",
        " |Frequency 7   10   11    9  12   10   14   7\n",
        " Test the hypothesis that the die is fair at 5% level of significance\n",
        "\n",
        " Output:\n",
        " Test Statistic value= 4.0\n",
        " Tabulated value= 14.067140449340167\n",
        " We accept H_0; The die is fa'''\n",
        "from scipy.stats import chi2\n",
        "import numpy as np\n",
        "data=np.array([7,10,11,9,12,10,14, 7])\n",
        "n=np.size(data)\n",
        "E_i=np.mean(data)\n",
        "chi_square=sum((data-E_i)**2/(E_i))\n",
        "alpha=0.05\n",
        "df=n-1\n",
        "chi_critical=chi2.ppf(1-alpha,df)\n",
        "print('Test Statistic value=',chi_square)\n",
        "print('Tabulated value=',chi_critical)\n",
        "if chi_square < chi_critical:\n",
        " print('We accept H_0; The die is fair')\n",
        "else:\n",
        " print('We reject H_0; The die is not fair')"
      ],
      "metadata": {
        "colab": {
          "base_uri": "https://localhost:8080/"
        },
        "id": "vGczux44Rrcr",
        "outputId": "9c4f2d99-9413-4491-a1d0-07b21d6d8c11"
      },
      "execution_count": 7,
      "outputs": [
        {
          "output_type": "stream",
          "name": "stdout",
          "text": [
            "Test Statistic value= 4.0\n",
            "Tabulated value= 14.067140449340169\n",
            "We accept H_0; The die is fair\n"
          ]
        }
      ]
    }
  ]
}