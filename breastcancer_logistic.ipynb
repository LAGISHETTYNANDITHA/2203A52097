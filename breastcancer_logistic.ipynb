{
  "nbformat": 4,
  "nbformat_minor": 0,
  "metadata": {
    "colab": {
      "provenance": [],
      "mount_file_id": "1l1d1E0DqolyYnJzjuasFH7gHDd2D9aH2",
      "authorship_tag": "ABX9TyMqDnNCJJSGvODeTCue+ShI",
      "include_colab_link": true
    },
    "kernelspec": {
      "name": "python3",
      "display_name": "Python 3"
    },
    "language_info": {
      "name": "python"
    }
  },
  "cells": [
    {
      "cell_type": "markdown",
      "metadata": {
        "id": "view-in-github",
        "colab_type": "text"
      },
      "source": [
        "<a href=\"https://colab.research.google.com/github/LAGISHETTYNANDITHA/2203A52097/blob/main/breastcancer_logistic.ipynb\" target=\"_parent\"><img src=\"https://colab.research.google.com/assets/colab-badge.svg\" alt=\"Open In Colab\"/></a>"
      ]
    },
    {
      "cell_type": "code",
      "execution_count": null,
      "metadata": {
        "colab": {
          "base_uri": "https://localhost:8080/"
        },
        "id": "ocwvPnjgpgO1",
        "outputId": "6a8a77ec-c6ee-4db0-8cf2-5fd34074b158"
      },
      "outputs": [
        {
          "output_type": "stream",
          "name": "stdout",
          "text": [
            "     Age  Gender  Protein1  Protein2  Protein3  Protein4 Tumour_Stage  \\\n",
            "0     42  FEMALE  0.952560   2.15000  0.007972 -0.048340           II   \n",
            "1     54  FEMALE  0.000000   1.38020 -0.498030 -0.507320           II   \n",
            "2     63  FEMALE -0.523030   1.76400 -0.370190  0.010815           II   \n",
            "3     78  FEMALE -0.876180   0.12943 -0.370380  0.132190            I   \n",
            "4     42  FEMALE  0.226110   1.74910 -0.543970 -0.390210           II   \n",
            "..   ...     ...       ...       ...       ...       ...          ...   \n",
            "329   59  FEMALE  0.024598   1.40050  0.024751  0.280320           II   \n",
            "330   41  FEMALE  0.100120  -0.46547  0.472370 -0.523870            I   \n",
            "331   54  FEMALE  0.753820   1.64250 -0.332850  0.857860           II   \n",
            "332   74  FEMALE  0.972510   1.42680 -0.366570 -0.107820           II   \n",
            "333   66  FEMALE  0.286380   1.39980  0.318830  0.836050           II   \n",
            "\n",
            "                          Histology ER status PR status HER2 status  \\\n",
            "0     Infiltrating Ductal Carcinoma  Positive  Positive    Negative   \n",
            "1     Infiltrating Ductal Carcinoma  Positive  Positive    Negative   \n",
            "2     Infiltrating Ductal Carcinoma  Positive  Positive    Negative   \n",
            "3     Infiltrating Ductal Carcinoma  Positive  Positive    Negative   \n",
            "4     Infiltrating Ductal Carcinoma  Positive  Positive    Positive   \n",
            "..                              ...       ...       ...         ...   \n",
            "329   Infiltrating Ductal Carcinoma  Positive  Positive    Positive   \n",
            "330   Infiltrating Ductal Carcinoma  Positive  Positive    Positive   \n",
            "331   Infiltrating Ductal Carcinoma  Positive  Positive    Negative   \n",
            "332  Infiltrating Lobular Carcinoma  Positive  Positive    Negative   \n",
            "333   Infiltrating Ductal Carcinoma  Positive  Positive    Negative   \n",
            "\n",
            "                    Surgery_type Date_of_Surgery Date_of_Last_Visit  \\\n",
            "0                          Other       20-May-18          26-Aug-18   \n",
            "1                          Other       26-Apr-18          25-Jan-19   \n",
            "2                     Lumpectomy       24-Aug-18          08-Apr-20   \n",
            "3                          Other       16-Nov-18          28-Jul-20   \n",
            "4                     Lumpectomy       12-Dec-18          05-Jan-19   \n",
            "..                           ...             ...                ...   \n",
            "329                   Lumpectomy       15-Jan-19          27-Mar-20   \n",
            "330  Modified Radical Mastectomy       25-Jul-18          23-Apr-19   \n",
            "331            Simple Mastectomy       26-Mar-19          11-Oct-19   \n",
            "332                   Lumpectomy       26-Nov-18          05-Dec-18   \n",
            "333  Modified Radical Mastectomy       04-Feb-19          10-Aug-19   \n",
            "\n",
            "    Patient_Status  \n",
            "0            Alive  \n",
            "1             Dead  \n",
            "2            Alive  \n",
            "3            Alive  \n",
            "4            Alive  \n",
            "..             ...  \n",
            "329          Alive  \n",
            "330          Alive  \n",
            "331           Dead  \n",
            "332          Alive  \n",
            "333           Dead  \n",
            "\n",
            "[334 rows x 15 columns]\n"
          ]
        }
      ],
      "source": [
        "import pandas as pd\n",
        "a=pd.read_csv('/content/breast_cancer_survival.csv')\n",
        "print(a)"
      ]
    },
    {
      "cell_type": "code",
      "source": [
        "import numpy as np\n",
        "import pandas as pd\n",
        "import matplotlib.pyplot as plt\n",
        "from sklearn.preprocessing import MinMaxScaler\n",
        "from sklearn.model_selection import train_test_split\n",
        "def sigmoid(z):\n",
        "    return 1 / (1 + np.exp(-z))\n",
        "def train_logistic_regression(X, y, learning_rate=0.01, num_iterations=1000):\n",
        "    m, n = X.shape\n",
        "    weights = np.zeros(n)\n",
        "    for _ in range(num_iterations):\n",
        "        z = np.dot(X, weights)\n",
        "        predictions = sigmoid(z)\n",
        "        gradient = np.dot(X.T, (predictions - y)) / m\n",
        "        weights -= learning_rate * gradient\n",
        "    return weights\n",
        "def predict(X, weights):\n",
        "    z = np.dot(X, weights)\n",
        "    predictions = sigmoid(z)\n",
        "    return [1 if p >= 0.5 else 0 for p in predictions]\n",
        "data = pd.read_csv(\"/content/breast_cancer_survival.csv\")\n",
        "data['Patient_Status'] = data['Patient_Status'].map({'Alive': 1, 'Dead': 0})\n",
        "data['HER2 status'] = data['HER2 status'].map({'Positive': 1, 'Negative': 0})\n",
        "data = data.fillna(data.mean())\n",
        "columns_to_drop = ['Surgery_type', 'Date_of_Surgery', 'Date_of_Last_Visit', 'Histology', 'Tumour_Stage', 'Gender', 'ER status', 'PR status']\n",
        "data = data.drop(columns=columns_to_drop)\n",
        "if data['Patient_Status'].isnull().sum() > 0:\n",
        "    raise ValueError(\"NaNs found in the target variable.\")\n",
        "features = data.drop(\"Patient_Status\", axis=1)\n",
        "target = data[\"Patient_Status\"].astype(int)\n",
        "X_train, X_test, y_train, y_test = train_test_split(features, target, test_size=0.2, random_state=42)\n",
        "weights = train_logistic_regression(X_train, y_train)\n",
        "y_pred = predict(X_test, weights)\n",
        "accuracy = sum(y_pred == y_test) / len(y_test)\n",
        "print(\"Accuracy:\", accuracy)"
      ],
      "metadata": {
        "colab": {
          "base_uri": "https://localhost:8080/"
        },
        "id": "XjIjcHJX2bWH",
        "outputId": "23725be1-e0ba-4814-c04b-15f578d15fd5"
      },
      "execution_count": 2,
      "outputs": [
        {
          "output_type": "stream",
          "name": "stderr",
          "text": [
            "<ipython-input-2-198382965069>:24: FutureWarning: The default value of numeric_only in DataFrame.mean is deprecated. In a future version, it will default to False. In addition, specifying 'numeric_only=None' is deprecated. Select only valid columns or specify the value of numeric_only to silence this warning.\n",
            "  data = data.fillna(data.mean())\n"
          ]
        },
        {
          "output_type": "stream",
          "name": "stdout",
          "text": [
            "Accuracy: 0.22388059701492538\n"
          ]
        }
      ]
    },
    {
      "cell_type": "code",
      "source": [
        "y=a['Patient_Status']\n",
        "print(y)\n",
        "a=a.drop('Patient_Status',axis=1)\n",
        "a=a.drop('PR status',axis=1)\n",
        "a=a.drop('ER status',axis=1)\n",
        "a=a.drop('Gender',axis=1)\n",
        "x=a\n",
        "print(x)"
      ],
      "metadata": {
        "colab": {
          "base_uri": "https://localhost:8080/"
        },
        "id": "HJ5MbEx4sAM5",
        "outputId": "36767482-2e8d-4e55-e3b7-77af7d91d981"
      },
      "execution_count": null,
      "outputs": [
        {
          "output_type": "stream",
          "name": "stdout",
          "text": [
            "0      1.0\n",
            "1      0.0\n",
            "2      1.0\n",
            "3      1.0\n",
            "4      1.0\n",
            "      ... \n",
            "329    1.0\n",
            "330    1.0\n",
            "331    0.0\n",
            "332    1.0\n",
            "333    0.0\n",
            "Name: Patient_Status, Length: 334, dtype: float64\n",
            "     Age  Protein1  Protein2  Protein3  Protein4 Tumour_Stage  \\\n",
            "0     42  0.952560   2.15000  0.007972 -0.048340            1   \n",
            "1     54  0.000000   1.38020 -0.498030 -0.507320            1   \n",
            "2     63 -0.523030   1.76400 -0.370190  0.010815            1   \n",
            "3     78 -0.876180   0.12943 -0.370380  0.132190            0   \n",
            "4     42  0.226110   1.74910 -0.543970 -0.390210            1   \n",
            "..   ...       ...       ...       ...       ...          ...   \n",
            "329   59  0.024598   1.40050  0.024751  0.280320            1   \n",
            "330   41  0.100120  -0.46547  0.472370 -0.523870            0   \n",
            "331   54  0.753820   1.64250 -0.332850  0.857860            1   \n",
            "332   74  0.972510   1.42680 -0.366570 -0.107820            1   \n",
            "333   66  0.286380   1.39980  0.318830  0.836050            1   \n",
            "\n",
            "                          Histology  HER2 status                 Surgery_type  \\\n",
            "0     Infiltrating Ductal Carcinoma            0                        Other   \n",
            "1     Infiltrating Ductal Carcinoma            0                        Other   \n",
            "2     Infiltrating Ductal Carcinoma            0                   Lumpectomy   \n",
            "3     Infiltrating Ductal Carcinoma            0                        Other   \n",
            "4     Infiltrating Ductal Carcinoma            1                   Lumpectomy   \n",
            "..                              ...          ...                          ...   \n",
            "329   Infiltrating Ductal Carcinoma            1                   Lumpectomy   \n",
            "330   Infiltrating Ductal Carcinoma            1  Modified Radical Mastectomy   \n",
            "331   Infiltrating Ductal Carcinoma            0            Simple Mastectomy   \n",
            "332  Infiltrating Lobular Carcinoma            0                   Lumpectomy   \n",
            "333   Infiltrating Ductal Carcinoma            0  Modified Radical Mastectomy   \n",
            "\n",
            "    Date_of_Surgery Date_of_Last_Visit  \n",
            "0         20-May-18          26-Aug-18  \n",
            "1         26-Apr-18          25-Jan-19  \n",
            "2         24-Aug-18          08-Apr-20  \n",
            "3         16-Nov-18          28-Jul-20  \n",
            "4         12-Dec-18          05-Jan-19  \n",
            "..              ...                ...  \n",
            "329       15-Jan-19          27-Mar-20  \n",
            "330       25-Jul-18          23-Apr-19  \n",
            "331       26-Mar-19          11-Oct-19  \n",
            "332       26-Nov-18          05-Dec-18  \n",
            "333       04-Feb-19          10-Aug-19  \n",
            "\n",
            "[334 rows x 11 columns]\n"
          ]
        }
      ]
    },
    {
      "cell_type": "code",
      "source": [
        "y0=y.map({'Alive':0,'Dead':1})\n",
        "print(y0)\n",
        "y.replace({'Dead':0,'Alive':1},inplace=True)\n",
        "a['HER2 status'].replace({'Negative':0,'Positive':1},inplace=True)\n",
        "a['Tumour_Stage'].replace({'I':0,'II':1},inplace=True)\n",
        "df=pd.DataFrame(a)\n",
        "co=['Surgery_type','Date_of_Surgery','Date_of_Last_Visit','Histology']\n",
        "features=df.drop(columns=co)\n",
        "print(features)"
      ],
      "metadata": {
        "colab": {
          "base_uri": "https://localhost:8080/"
        },
        "id": "AwRk7VsatQ-z",
        "outputId": "54df7464-a18a-461a-a529-f77cc4b7af7a"
      },
      "execution_count": null,
      "outputs": [
        {
          "output_type": "stream",
          "name": "stdout",
          "text": [
            "0     NaN\n",
            "1     NaN\n",
            "2     NaN\n",
            "3     NaN\n",
            "4     NaN\n",
            "       ..\n",
            "329   NaN\n",
            "330   NaN\n",
            "331   NaN\n",
            "332   NaN\n",
            "333   NaN\n",
            "Name: Patient_Status, Length: 334, dtype: float64\n",
            "     Age  Protein1  Protein2  Protein3  Protein4 Tumour_Stage  HER2 status\n",
            "0     42  0.952560   2.15000  0.007972 -0.048340            1            0\n",
            "1     54  0.000000   1.38020 -0.498030 -0.507320            1            0\n",
            "2     63 -0.523030   1.76400 -0.370190  0.010815            1            0\n",
            "3     78 -0.876180   0.12943 -0.370380  0.132190            0            0\n",
            "4     42  0.226110   1.74910 -0.543970 -0.390210            1            1\n",
            "..   ...       ...       ...       ...       ...          ...          ...\n",
            "329   59  0.024598   1.40050  0.024751  0.280320            1            1\n",
            "330   41  0.100120  -0.46547  0.472370 -0.523870            0            1\n",
            "331   54  0.753820   1.64250 -0.332850  0.857860            1            0\n",
            "332   74  0.972510   1.42680 -0.366570 -0.107820            1            0\n",
            "333   66  0.286380   1.39980  0.318830  0.836050            1            0\n",
            "\n",
            "[334 rows x 7 columns]\n"
          ]
        }
      ]
    },
    {
      "cell_type": "code",
      "source": [
        "import numpy as np\n",
        "import pandas as pd\n",
        "import matplotlib.pyplot as plt\n",
        "from sklearn.preprocessing import MinMaxScaler\n",
        "from sklearn.model_selection import train_test_split\n",
        "from sklearn.linear_model import LogisticRegression\n",
        "from sklearn.metrics import accuracy_score\n",
        "def logistic_regression(data):\n",
        "    data['Patient_Status'] = data['Patient_Status'].map({'Alive': 1, 'Dead': 0})\n",
        "    data['HER2 status'] = data['HER2 status'].map({'Positive': 1, 'Negative': 0})\n",
        "    data = data.fillna(data.mean())\n",
        "    columns_to_drop = ['Surgery_type', 'Date_of_Surgery', 'Date_of_Last_Visit', 'Histology', 'Tumour_Stage', 'Gender','ER status','PR status']\n",
        "    data = data.drop(columns=columns_to_drop)\n",
        "    if data['Patient_Status'].isnull().sum() > 0:\n",
        "        raise ValueError(\"NaNs found in the target variable.\")\n",
        "    features = data.drop(\"Patient_Status\", axis=1)\n",
        "    target = data[\"Patient_Status\"].astype(int)\n",
        "    x_train, x_test, y_train, y_test = train_test_split(features, target, test_size=0.2, random_state=42)\n",
        "    logistic_reg = LogisticRegression()\n",
        "    logistic_reg.fit(x_train, y_train)\n",
        "    y_pred = logistic_reg.predict(x_test)\n",
        "    accuracy = accuracy_score(y_test, y_pred)\n",
        "    print(\"Accuracy:\", accuracy)\n",
        "data = pd.read_csv(\"/content/breast_cancer_survival.csv\")\n",
        "logistic_regression(data)"
      ],
      "metadata": {
        "id": "gNLe_ElF7F_h",
        "outputId": "57d0f755-887a-4505-aee2-32a393b94bc1",
        "colab": {
          "base_uri": "https://localhost:8080/"
        }
      },
      "execution_count": null,
      "outputs": [
        {
          "output_type": "stream",
          "name": "stdout",
          "text": [
            "Accuracy: 0.7761194029850746\n"
          ]
        },
        {
          "output_type": "stream",
          "name": "stderr",
          "text": [
            "<ipython-input-20-b7d6982706d3>:11: FutureWarning: The default value of numeric_only in DataFrame.mean is deprecated. In a future version, it will default to False. In addition, specifying 'numeric_only=None' is deprecated. Select only valid columns or specify the value of numeric_only to silence this warning.\n",
            "  data = data.fillna(data.mean())\n"
          ]
        }
      ]
    }
  ]
}